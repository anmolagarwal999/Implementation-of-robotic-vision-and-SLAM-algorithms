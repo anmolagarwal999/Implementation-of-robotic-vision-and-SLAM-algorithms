{
 "cells": [
  {
   "cell_type": "markdown",
   "id": "b522c33d",
   "metadata": {
    "id": "b522c33d"
   },
   "source": [
    "# Assignment 1: Transformations and Representations\n",
    "\n",
    "Roll number: 2019101068\n"
   ]
  },
  {
   "cell_type": "markdown",
   "id": "d688be4e",
   "metadata": {
    "id": "d688be4e"
   },
   "source": [
    "## 2. Euler Angles, Rotation Matrices, and Quaternions\n",
    "1. Write a function (do not use inbuilt libraries for this question):\n",
    "    - that returns a rotation matrix given the angles $\\alpha$, $\\beta$, and $\\gamma$ in radians **(X-Y-Z)**.\n",
    "    - to convert a rotation matrix to quaternion and vice versa. \n",
    "\n",
    "2. What is a Gimbal lock? Suppose an airplane increases its pitch from $0°$ to $90°$. \n",
    "\n",
    "    - Let $R_{gmb\\beta}$ be the rotation matrix for $\\beta=90°$. Find $R_{gmb\\beta}$.\n",
    "    - Consider the point $p = [0, 1, 0]ᵀ $ on the pitched airplane, i.e. the tip of the wing. Does there exist any $α , γ$ such that $p_{new} = R_{gmb\\beta}\\; p$ for:\n",
    "      1. $p_{new} = [1, 0, 0]ᵀ $\n",
    "      2. For some  $p_{new}$ on the XY unit circle?\n",
    "      3. For some  $p_{new}$ on the YZ unit circle?\n",
    "      \n",
    "      Show your work for all three parts and briefly explain your reasoning. Why is $\\beta=90°$  a “certain problematic value”?\n",
    "\n",
    "    <img src=\"img/2.3.jpeg\"  width=\"500\" ><br>\n",
    "    \n",
    "    <img src=\"img/2.1.jpeg\"  width=\"500\" ><br>\n",
    "\n",
    "    <img src=\"img/2.2.jpeg\"  width=\"500\" >\n",
    "    \n"
   ]
  },
  {
   "cell_type": "markdown",
   "id": "55fb4140",
   "metadata": {},
   "source": [
    "## Rotation matrix from euler angles"
   ]
  },
  {
   "cell_type": "code",
   "execution_count": 1,
   "id": "4a3b89f6",
   "metadata": {
    "id": "4a3b89f6"
   },
   "outputs": [],
   "source": [
    "import numpy as np\n",
    "import math\n"
   ]
  },
  {
   "cell_type": "markdown",
   "id": "0c8c71d8",
   "metadata": {},
   "source": [
    "## Here, I am following the convention given in book by Craig: Section 2.8"
   ]
  },
  {
   "cell_type": "markdown",
   "id": "cc0238fe",
   "metadata": {},
   "source": [
    "#### On Moodle it has been mentioned: You can assume alpha, beta and gamma angles (rotation magnitude) in radian/degree to be about Z, Y, X axis respectively."
   ]
  },
  {
   "cell_type": "markdown",
   "id": "adca3367",
   "metadata": {},
   "source": [
    "Since nothing has been mentioned regarding extrinsic/intrinsic ie extrinsic (rotations about the axes xyz of the original coordinate system, which is assumed to remain motionless) or intrinsic (rotations about the axes of the rotating coordinate system XYZ, solidary with the moving body, which changes its orientation after each elemental rotation), I am assuming **Intrinsic** rotation here"
   ]
  },
  {
   "cell_type": "markdown",
   "id": "f627f27f",
   "metadata": {},
   "source": [
    "### NOTE: the given function calculates rotation as per:\n",
    "* **X–Y–Z fixed angles (extrinsic)**\n",
    "* **Z-Y-X rotating angles (intrinsic)**\n",
    "\n",
    "The result comes out to be the same in both cases.\n",
    "\n",
    "**See Chapter 2 of Craig book for convention**"
   ]
  },
  {
   "cell_type": "code",
   "execution_count": 2,
   "id": "directed-termination",
   "metadata": {
    "id": "directed-termination"
   },
   "outputs": [],
   "source": [
    "def euler_angles_dict_to_rotation_matrix( angles_dict):\n",
    "    angle_x = angles_dict[\"gamma\"]\n",
    "    angle_y = angles_dict[\"beta\"]\n",
    "    angle_z = angles_dict[\"alpha\"]\n",
    "\n",
    "    rot_x = np.array( [ [ 1 , 0 , 0 ] ,\n",
    "                           [ 0 , math.cos(angle_x) , -math.sin(angle_x) ]  , \n",
    "                           [0 , math.sin(angle_x) , math.cos(angle_x)]])\n",
    "\n",
    "    rot_y = np.array( [ [ math.cos(angle_y) , 0 , math.sin(angle_y) ] ,\n",
    "                           [ 0 ,1 ,0 ] ,\n",
    "                           [ -math.sin(angle_y) , 0 , math.cos(angle_y)]])\n",
    "    \n",
    "    \n",
    "    rot_z = np.array( [ [  math.cos(angle_z) , -math.sin(angle_z) , 0 ] , \n",
    "                               [math.sin(angle_z) , math.cos(angle_z) , 0 ] ,\n",
    "                               [0 ,0, 1]]  )\n",
    "    \n",
    "    FINAL_R = rot_z@rot_y@rot_x\n",
    "\n",
    "    return FINAL_R"
   ]
  },
  {
   "cell_type": "code",
   "execution_count": 3,
   "id": "63b34e3f",
   "metadata": {
    "scrolled": true
   },
   "outputs": [
    {
     "name": "stdout",
     "output_type": "stream",
     "text": [
      "[[ 0.81092111  0.02233573  0.58472905]\n",
      " [ 0.1723666   0.94581709 -0.2751723 ]\n",
      " [-0.5591929   0.32393079  0.76313311]]\n"
     ]
    }
   ],
   "source": [
    "# make changes here\n",
    "angles = dict({\n",
    "    \"alpha\": math.radians(12), \n",
    "    \"beta\": math.radians(34),\n",
    "    \"gamma\": math.radians(23)\n",
    "})\n",
    "ROT_MAT = euler_angles_dict_to_rotation_matrix(angles)\n",
    "print(ROT_MAT)"
   ]
  },
  {
   "cell_type": "code",
   "execution_count": null,
   "id": "76901506",
   "metadata": {},
   "outputs": [],
   "source": []
  },
  {
   "cell_type": "markdown",
   "id": "5f0369ca",
   "metadata": {},
   "source": [
    "## Quat to Rot Matrix"
   ]
  },
  {
   "cell_type": "markdown",
   "id": "4940f966",
   "metadata": {},
   "source": [
    "### Here, I am assuming q = (magnitude, vector) ie (w, x, y, z) format"
   ]
  },
  {
   "cell_type": "markdown",
   "id": "c179b3c2",
   "metadata": {},
   "source": [
    "#### Derived formula reverified from Craig book pg 50: \n",
    "Tested using this: https://www.andre-gaschler.com/rotationconverter/ "
   ]
  },
  {
   "cell_type": "code",
   "execution_count": 4,
   "id": "035b68ee",
   "metadata": {},
   "outputs": [],
   "source": [
    "def quat_to_rot(q):\n",
    "    \n",
    "    # normalize quaternions\n",
    "    q = q / np.sqrt(np.sum(q**2))\n",
    "    \n",
    "    # get components\n",
    "    w, x, y, z = q\n",
    "    \n",
    "    ans = np.zeros((3,3))\n",
    "    \n",
    "    \n",
    "    ans[0,0]=1 - 2*(y*y + z * z)\n",
    "    ans[0,1] = 2*(-z*w + y*x)\n",
    "    ans[0,2] = 2*(y*w + z*x)\n",
    "\n",
    "    ans[1,0] = 2*(x*y + w*z)\n",
    "    ans[1,1] = 1 - 2*(z*z + x*x)\n",
    "    ans[1,2] =   2*(y*z - x*w)\n",
    "\n",
    "    ans[2,0] = 2*(x*z - w*y)\n",
    "    ans[2,1] = 2*(y*z + w*x)\n",
    "    ans[2,2] = 1 - 2*(y*y + x*x)\n",
    "    \n",
    "    # the convention has not been mentioned whether it is from frame F1 to F2 or vice versa\n",
    "    # If reverse is desired, please take transpose\n",
    "    #ans=ans.T\n",
    "                            \n",
    "    return ans"
   ]
  },
  {
   "cell_type": "code",
   "execution_count": 5,
   "id": "1b1b7ff5",
   "metadata": {},
   "outputs": [],
   "source": [
    "q = np.array([0.1, 0.462, 0.191, -0.462])\n",
    "q = np.array([1, 1, 3, 121])"
   ]
  },
  {
   "cell_type": "code",
   "execution_count": 6,
   "id": "2d1e95e8",
   "metadata": {},
   "outputs": [
    {
     "name": "stdout",
     "output_type": "stream",
     "text": [
      "[[-0.999727   -0.01610702  0.01692602]\n",
      " [ 0.01692602 -0.998635    0.04941305]\n",
      " [ 0.01610702  0.04968605  0.998635  ]]\n"
     ]
    }
   ],
   "source": [
    "R = quat_to_rot(q)\n",
    "print(R)"
   ]
  },
  {
   "cell_type": "markdown",
   "id": "f79997c6",
   "metadata": {},
   "source": [
    "### Rotation mat to quaternions"
   ]
  },
  {
   "cell_type": "markdown",
   "id": "8c525ef8",
   "metadata": {},
   "source": [
    "##### Handle square root of negative trace:: DONE"
   ]
  },
  {
   "cell_type": "markdown",
   "id": "da6f5e58",
   "metadata": {},
   "source": [
    "##### Verified derivation: http://www.euclideanspace.com/maths/geometry/rotations/conversions/matrixToQuaternion/"
   ]
  },
  {
   "cell_type": "code",
   "execution_count": 7,
   "id": "40efdb9a",
   "metadata": {},
   "outputs": [],
   "source": [
    "def rotation_to_quat(R):\n",
    "      \n",
    "    mat_trace = R[0][0] + R[1][1] + R[2][2]\n",
    "    if(mat_trace > 0):\n",
    "        tmp = math.sqrt(1 + mat_trace)*2\n",
    "        w = 0.25*tmp\n",
    "        x = (R[2][1] - R[1][2])/tmp\n",
    "        y = (R[0][2] - R[2][0])/tmp\n",
    "        z = (R[1][0] - R[0][1])/tmp\n",
    "    # pick path corresponding to largest of x and y and z\n",
    "    elif(R[0][0] > R[1][1] and R[0][0] > R[2][2]):\n",
    "        tmp = math.sqrt(1 + R[0][0] - R[1][1] - R[2][2])*2\n",
    "        w = (R[2][1] - R[1][2])/tmp\n",
    "        x = 0.25*tmp\n",
    "        y = (R[0][1] + R[1][0])/tmp\n",
    "        z = (R[0][2] + R[2][0])/tmp\n",
    "    # largest has to be among R[1][1] and R[1][2]\n",
    "    elif(R[1][1] > R[2][2]):\n",
    "        tmp = math.sqrt(1 + R[1][1] - R[0][0] - R[2][2])*2\n",
    "        w = (R[0][2] - R[2][0])/tmp\n",
    "        x = (R[0][1] + R[1][0])/tmp\n",
    "        y = 0.25*tmp\n",
    "        z = (R[1][2] + R[2][1])/tmp\n",
    "    else:\n",
    "        tmp = math.sqrt(1 + R[2][2] - R[0][0] - R[1][1])*2\n",
    "        w = (R[1][0] - R[0][1])/tmp\n",
    "        x = (R[0][2] + R[2][0])/tmp\n",
    "        y = (R[1][2] + R[2][1])/tmp\n",
    "        z = 0.25*tmp\n",
    "\n",
    "    quat = np.array([w, x,y,z])\n",
    "\n",
    "    # already normalized before this\n",
    "    quat = quat / math.sqrt(np.sum(quat**2))\n",
    "    return quat"
   ]
  },
  {
   "cell_type": "code",
   "execution_count": 8,
   "id": "f1641a8f",
   "metadata": {},
   "outputs": [],
   "source": [
    "R = np.array([ [-0.8562221,  0.2498761,  0.4521567],\n",
    "   [0.3212692, -0.4278632,  0.8448190],\n",
    "   [0.4045612,  0.8686168,  0.2860684 ]])"
   ]
  },
  {
   "cell_type": "code",
   "execution_count": 9,
   "id": "799a4972",
   "metadata": {},
   "outputs": [],
   "source": [
    "q=rotation_to_quat(R)"
   ]
  },
  {
   "cell_type": "code",
   "execution_count": 10,
   "id": "eab72a85",
   "metadata": {},
   "outputs": [
    {
     "data": {
      "text/plain": [
       "array([0.02226623, 0.26719498, 0.53438996, 0.80158494])"
      ]
     },
     "execution_count": 10,
     "metadata": {},
     "output_type": "execute_result"
    }
   ],
   "source": [
    "q"
   ]
  },
  {
   "cell_type": "markdown",
   "id": "ea1a1602",
   "metadata": {},
   "source": [
    "## FOR PART 2, please see pdf"
   ]
  },
  {
   "cell_type": "code",
   "execution_count": null,
   "id": "10136beb",
   "metadata": {},
   "outputs": [],
   "source": []
  },
  {
   "cell_type": "code",
   "execution_count": null,
   "id": "d4c4e227",
   "metadata": {},
   "outputs": [],
   "source": []
  },
  {
   "cell_type": "code",
   "execution_count": null,
   "id": "1f191d5c",
   "metadata": {},
   "outputs": [],
   "source": []
  },
  {
   "cell_type": "code",
   "execution_count": null,
   "id": "05c8e9d0",
   "metadata": {},
   "outputs": [],
   "source": []
  }
 ],
 "metadata": {
  "colab": {
   "collapsed_sections": [],
   "name": "MR 2022 A1.ipynb",
   "provenance": []
  },
  "interpreter": {
   "hash": "b671c20432fcd147198c92e7f072af9e705f087eb990bee22b07f08caab9f630"
  },
  "kernelspec": {
   "display_name": "Python 3 (ipykernel)",
   "language": "python",
   "name": "python3"
  },
  "language_info": {
   "codemirror_mode": {
    "name": "ipython",
    "version": 3
   },
   "file_extension": ".py",
   "mimetype": "text/x-python",
   "name": "python",
   "nbconvert_exporter": "python",
   "pygments_lexer": "ipython3",
   "version": "3.6.9"
  }
 },
 "nbformat": 4,
 "nbformat_minor": 5
}
