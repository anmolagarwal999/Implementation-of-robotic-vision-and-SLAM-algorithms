{
 "cells": [
  {
   "cell_type": "markdown",
   "id": "b522c33d",
   "metadata": {
    "id": "b522c33d"
   },
   "source": [
    "# Assignment 1: Transformations and Representations\n",
    "\n",
    "Roll number: 2019101068\n"
   ]
  },
  {
   "cell_type": "markdown",
   "id": "e5f08d84",
   "metadata": {
    "id": "e5f08d84"
   },
   "source": [
    "## 4. LiDAR and Registration\n",
    "\n",
    "Point clouds are a collection of points that represent a 3D shape or feature. Each point has its own set of X, Y and Z coordinates and in some cases additional attributes. A popular way to obtain this is by photogrammetry, though here we will use LiDAR data.\n",
    "\n",
    "LiDAR is a remote sensing process which collects measurements used to create 3D models and maps of objects and environments. Using ultraviolet, visible, or near-infrared light, LiDAR gauges spatial relationships and shapes by measuring the time it takes for signals to bounce off objects and return to the scanner.\n",
    "\n",
    "Download the data from [here](https://iiitaphyd-my.sharepoint.com/:f:/g/personal/venkata_surya_students_iiit_ac_in/EnYAMaTVIhJItzKYqtahE30BRKB6p6UfHN3TyJzvo6Mw0g?e=PegWds). It contains the LIDAR sensor output and odometry information per frame.\n",
    "\n",
    "  The .bin files contain the 3D point cloud captured by the LIDAR in this format - x, y, z, and reflectance. \n",
    "\n",
    "  The odometry information is given in the `odometry.txt` file, which is a 12 element vector. Reshape each of the first 77 rows to a 3x4 matrix to obtain the pose.\n",
    "    \n",
    "The point cloud obtained is with respect to the LiDAR frame. The poses however, are in the camera frame. If we want to combine the point clouds from various frames, we need to bring them to the camera frame. \n",
    "\n",
    "1. Refer to the image below and apply the required transformation to the point cloud. \n",
    "<br>\n",
    "\n",
    "    <img src=\"img/4.jpeg\"  width=\"500\" >\n",
    "\n",
    "<br>\n",
    "\n",
    "# 2. Then, register all point clouds into a common reference frame and visualise it (Open3D). It is helpful to use homogeneous coordinates to keep track of the different frames.\n",
    "\n",
    "# 3. Write a function to transform the registered point cloud from the world to the $i^{th}$ camera frame, wherein $i$ is the input to the function.\n",
    "\n",
    "\n"
   ]
  },
  {
   "cell_type": "code",
   "execution_count": null,
   "id": "7bd21ceb",
   "metadata": {},
   "outputs": [],
   "source": []
  },
  {
   "cell_type": "markdown",
   "id": "287efede",
   "metadata": {},
   "source": [
    "## Relevant links to know to read about KITTI Dataset format\n",
    "\n",
    "* https://stackoverflow.com/q/68007289/6427607 \n",
    "* https://stackoverflow.com/q/43513410/6427607 \n",
    "* https://stackoverflow.com/q/60639665/6427607 \n",
    "* https://stackoverflow.com/q/53218743/6427607 \n",
    "* https://stackoverflow.com/q/29407474/6427607 \n",
    "* https://stackoverflow.com/q/50210547/6427607 \n",
    "* https://stackoverflow.com/q/69945642/6427607 \n",
    "* https://github.com/darylclimb/cvml_project/tree/master/projections/lidar_camera_projection/data \n",
    "* https://stackoverflow.com/a/51794976 "
   ]
  },
  {
   "cell_type": "code",
   "execution_count": 52,
   "id": "directed-termination",
   "metadata": {
    "id": "directed-termination"
   },
   "outputs": [
    {
     "data": {
      "text/plain": [
       "<module 'helper' from '/home/anmolagarwal/Desktop/mr_assign_1/helper.py'>"
      ]
     },
     "execution_count": 52,
     "metadata": {},
     "output_type": "execute_result"
    }
   ],
   "source": [
    "import open3d as o3d\n",
    "import numpy as np\n",
    "import matplotlib.pyplot as plt\n",
    "import copy\n",
    "import os\n",
    "import sys\n",
    "import struct\n",
    "import helper\n",
    "import seaborn as sns\n",
    "import importlib\n",
    "importlib.reload(helper)"
   ]
  },
  {
   "cell_type": "markdown",
   "id": "d1d0e367",
   "metadata": {},
   "source": [
    "# SOME OF THE helper functions I have used in this .ipynb can be found in helper.py"
   ]
  },
  {
   "cell_type": "markdown",
   "id": "0003e065",
   "metadata": {},
   "source": [
    "### Import all files and choose a limited number of visualization"
   ]
  },
  {
   "cell_type": "code",
   "execution_count": 53,
   "id": "6fbed27a",
   "metadata": {},
   "outputs": [],
   "source": [
    "ROOT_PATH=\"./data/lidar_data\"\n",
    "# ROOT_PATH=\"./data/velodyne_4\"\n",
    "EXP_NAME=\"LiDAR\"\n",
    "# EXP_NAME=\"velodyne_5\"\n",
    "all_files=sorted(os.listdir(os.path.join(ROOT_PATH, EXP_NAME)))\n",
    "\n",
    "STEP_VAL=1"
   ]
  },
  {
   "cell_type": "code",
   "execution_count": 54,
   "id": "9d5d5dd6",
   "metadata": {
    "scrolled": true
   },
   "outputs": [
    {
     "name": "stdout",
     "output_type": "stream",
     "text": [
      "000010.bin\n",
      "000011.bin\n",
      "000012.bin\n",
      "000013.bin\n",
      "000014.bin\n",
      "000015.bin\n",
      "000016.bin\n",
      "000017.bin\n",
      "000018.bin\n",
      "000019.bin\n",
      "000020.bin\n",
      "000021.bin\n",
      "000022.bin\n",
      "000023.bin\n",
      "000024.bin\n",
      "000025.bin\n",
      "000026.bin\n",
      "000027.bin\n",
      "000028.bin\n",
      "000029.bin\n",
      "000030.bin\n",
      "000031.bin\n",
      "000032.bin\n",
      "000033.bin\n",
      "000034.bin\n",
      "000035.bin\n",
      "000036.bin\n",
      "000037.bin\n",
      "000038.bin\n",
      "000039.bin\n",
      "000040.bin\n",
      "000041.bin\n",
      "000042.bin\n",
      "000043.bin\n",
      "000044.bin\n",
      "000045.bin\n",
      "000046.bin\n",
      "000047.bin\n",
      "000048.bin\n",
      "000049.bin\n",
      "000050.bin\n",
      "000051.bin\n",
      "000052.bin\n",
      "000053.bin\n",
      "000054.bin\n",
      "000055.bin\n",
      "000056.bin\n",
      "000057.bin\n",
      "000058.bin\n",
      "000059.bin\n",
      "000060.bin\n",
      "000061.bin\n",
      "000062.bin\n",
      "000063.bin\n",
      "000064.bin\n",
      "000065.bin\n",
      "000066.bin\n",
      "000067.bin\n",
      "000068.bin\n",
      "000069.bin\n",
      "000070.bin\n",
      "000071.bin\n",
      "000072.bin\n",
      "000073.bin\n",
      "000074.bin\n",
      "000075.bin\n",
      "000076.bin\n",
      "000077.bin\n",
      "000078.bin\n",
      "000079.bin\n",
      "000080.bin\n",
      "000081.bin\n",
      "000082.bin\n",
      "000083.bin\n",
      "000084.bin\n",
      "000085.bin\n",
      "000086.bin\n"
     ]
    }
   ],
   "source": [
    "# list all files\n",
    "all_files=all_files[::STEP_VAL]\n",
    "print(*all_files, sep=\"\\n\")"
   ]
  },
  {
   "cell_type": "markdown",
   "id": "74ed1e3d",
   "metadata": {},
   "source": [
    "### Read PCD FILES"
   ]
  },
  {
   "cell_type": "code",
   "execution_count": 55,
   "id": "1a2e3396",
   "metadata": {},
   "outputs": [],
   "source": [
    "# load all files\n",
    "pcds=[helper.convert_kitti_bin_to_pcd( os.path.join(ROOT_PATH,EXP_NAME,x)) for x in all_files]"
   ]
  },
  {
   "cell_type": "markdown",
   "id": "fdaaf459",
   "metadata": {},
   "source": [
    "## Read poses"
   ]
  },
  {
   "cell_type": "code",
   "execution_count": 56,
   "id": "fccae9d2",
   "metadata": {},
   "outputs": [],
   "source": [
    "#####################\n",
    "# READ POSE MATRICES\n",
    "odom_path=os.path.join(ROOT_PATH, \"odometry.txt\")\n",
    "with open(odom_path,'r') as fd:\n",
    "    all_lines=fd.readlines()\n",
    "poses=[helper.fetch_pose_matrix(x) for x in all_lines][::STEP_VAL][:len(all_files)]\n",
    "################"
   ]
  },
  {
   "cell_type": "markdown",
   "id": "10eead52",
   "metadata": {},
   "source": [
    "### Convert from lidar frame to respective camera frame"
   ]
  },
  {
   "cell_type": "code",
   "execution_count": 57,
   "id": "38973f16",
   "metadata": {
    "scrolled": true
   },
   "outputs": [
    {
     "name": "stdout",
     "output_type": "stream",
     "text": [
      "len pcds is  77\n"
     ]
    }
   ],
   "source": [
    "ROT_MAT=np.array([ \n",
    "        [0, 0, 1],\n",
    "        [-1, 0, 0],\n",
    "        [0, -1, 0]\n",
    "    ])\n",
    "print(\"len pcds is \", len(pcds))\n",
    "\n",
    "# contains points in respective timestamp camera frames\n",
    "new_pcds=[helper.apply_rot_on_pcl(x, ROT_MAT.T) for x in pcds]"
   ]
  },
  {
   "cell_type": "markdown",
   "id": "4efcbff9",
   "metadata": {},
   "source": [
    "### Convert from ith camera frame to global frame (camera frame at 0th timestep)"
   ]
  },
  {
   "cell_type": "code",
   "execution_count": 58,
   "id": "19941ada",
   "metadata": {},
   "outputs": [],
   "source": [
    "new_pcds_2=[helper.apply_rot_on_pcl(x, poses[idx]) for idx, x in enumerate(new_pcds)]"
   ]
  },
  {
   "cell_type": "markdown",
   "id": "c03a9ab4",
   "metadata": {},
   "source": [
    "### DIfferent colors for helpful visualization"
   ]
  },
  {
   "cell_type": "code",
   "execution_count": 59,
   "id": "7c3c4d41",
   "metadata": {},
   "outputs": [],
   "source": [
    "##################\n",
    "NUM_COLORS=100\n",
    "COLORS_ARR=sns.color_palette('hls', n_colors=NUM_COLORS)\n",
    "#####"
   ]
  },
  {
   "cell_type": "markdown",
   "id": "5fbb1716",
   "metadata": {},
   "source": [
    "##### COLOR FOR EASE OF VIEWING"
   ]
  },
  {
   "cell_type": "code",
   "execution_count": 60,
   "id": "6d277ecf",
   "metadata": {},
   "outputs": [],
   "source": [
    "#####\n",
    "pcds=list(map(lambda x: x[1].paint_uniform_color(COLORS_ARR[x[0]]) , enumerate(pcds)))\n",
    "new_pcds=list(map(lambda x: x[1].paint_uniform_color(COLORS_ARR[-x[0]]) , enumerate(new_pcds)))\n",
    "new_pcds_2=list(map(lambda x: x[1].paint_uniform_color(COLORS_ARR[(x[0]+NUM_COLORS+12)%NUM_COLORS]) , enumerate(new_pcds_2)))"
   ]
  },
  {
   "cell_type": "code",
   "execution_count": 61,
   "id": "55a38d5b",
   "metadata": {},
   "outputs": [],
   "source": [
    " # COMMENT IF YOU WANT TO VIEW ALL POINT CLOUDS\n",
    "pcds=[]\n",
    "new_pcds=[]\n",
    "# new_pcds_2=[]"
   ]
  },
  {
   "cell_type": "markdown",
   "id": "a11e07b5",
   "metadata": {},
   "source": [
    "# Visualize"
   ]
  },
  {
   "cell_type": "code",
   "execution_count": 62,
   "id": "2187a8db",
   "metadata": {},
   "outputs": [],
   "source": [
    "master_pcd=o3d.geometry.PointCloud()\n",
    "master_pcd.points = o3d.utility.Vector3dVector(\n",
    "                                        np.concatenate(\n",
    "                                            [np.asarray(x.points) for x in new_pcds_2]\n",
    "                                        )\n",
    "                                            )      "
   ]
  },
  {
   "cell_type": "code",
   "execution_count": 63,
   "id": "da9d80ea",
   "metadata": {},
   "outputs": [],
   "source": [
    "o3d.visualization.draw_geometries([master_pcd])"
   ]
  },
  {
   "cell_type": "code",
   "execution_count": 64,
   "id": "33a5910c",
   "metadata": {
    "scrolled": true
   },
   "outputs": [],
   "source": [
    "# SAVING PCD\n",
    "#o3d.io.write_point_cloud(\"./results/Q4/global_frame_pointcloud.pcd\",master_pcd)\n"
   ]
  },
  {
   "cell_type": "code",
   "execution_count": null,
   "id": "11981eff",
   "metadata": {},
   "outputs": [],
   "source": []
  },
  {
   "cell_type": "code",
   "execution_count": null,
   "id": "7720ed2c",
   "metadata": {},
   "outputs": [],
   "source": []
  },
  {
   "cell_type": "code",
   "execution_count": null,
   "id": "e04575ef",
   "metadata": {},
   "outputs": [],
   "source": []
  },
  {
   "cell_type": "markdown",
   "id": "35109614",
   "metadata": {},
   "source": [
    "# Visualizing in ith camera frame"
   ]
  },
  {
   "cell_type": "code",
   "execution_count": 88,
   "id": "366c6b1d",
   "metadata": {},
   "outputs": [],
   "source": [
    "org_path=\"./results/Q4/global_frame_pointcloud.pcd\""
   ]
  },
  {
   "cell_type": "code",
   "execution_count": 89,
   "id": "a172910f",
   "metadata": {},
   "outputs": [],
   "source": [
    "master_pcd = o3d.io.read_point_cloud(org_path)"
   ]
  },
  {
   "cell_type": "markdown",
   "id": "927fd4dd",
   "metadata": {},
   "source": [
    "## CHANGE CAMERA INDEX here"
   ]
  },
  {
   "cell_type": "code",
   "execution_count": 90,
   "id": "f293f202",
   "metadata": {},
   "outputs": [],
   "source": [
    "CAMERA_IDX=-1"
   ]
  },
  {
   "cell_type": "code",
   "execution_count": 91,
   "id": "f8b663e0",
   "metadata": {},
   "outputs": [
    {
     "name": "stdout",
     "output_type": "stream",
     "text": [
      "SHAPE IS  (3, 4)\n",
      "org pose is  PointCloud with 9413461 points.\n",
      "R INV IS  [[-1.45604300e-01  1.12856600e-01 -9.82884900e-01  2.52379862e+01]\n",
      " [ 3.17749200e-03  9.93520700e-01  1.13607100e-01 -1.21061330e+00]\n",
      " [ 9.89337800e-01  1.34185600e-02 -1.45019400e-01 -7.70066244e+01]\n",
      " [ 0.00000000e+00  0.00000000e+00  0.00000000e+00  1.00000000e+00]]\n"
     ]
    }
   ],
   "source": [
    "new_pcd=helper.rotate_as_per_camera(poses[CAMERA_IDX], master_pcd)"
   ]
  },
  {
   "cell_type": "code",
   "execution_count": 92,
   "id": "2e704973",
   "metadata": {},
   "outputs": [
    {
     "data": {
      "text/plain": [
       "PointCloud with 9413461 points."
      ]
     },
     "execution_count": 92,
     "metadata": {},
     "output_type": "execute_result"
    }
   ],
   "source": [
    "master_pcd.paint_uniform_color((1, 0 , 0)) "
   ]
  },
  {
   "cell_type": "code",
   "execution_count": 93,
   "id": "79a6bab0",
   "metadata": {},
   "outputs": [
    {
     "data": {
      "text/plain": [
       "PointCloud with 9413461 points."
      ]
     },
     "execution_count": 93,
     "metadata": {},
     "output_type": "execute_result"
    }
   ],
   "source": [
    "new_pcd.paint_uniform_color((0,1 , 0))"
   ]
  },
  {
   "cell_type": "markdown",
   "id": "ea853420",
   "metadata": {},
   "source": [
    "## Original: RED, Transformed: Green"
   ]
  },
  {
   "cell_type": "code",
   "execution_count": 94,
   "id": "cdcdd3ff",
   "metadata": {},
   "outputs": [],
   "source": [
    "o3d.visualization.draw_geometries([new_pcd, master_pcd])"
   ]
  },
  {
   "cell_type": "code",
   "execution_count": null,
   "id": "ef8a5a81",
   "metadata": {},
   "outputs": [],
   "source": []
  }
 ],
 "metadata": {
  "colab": {
   "collapsed_sections": [],
   "name": "MR 2022 A1.ipynb",
   "provenance": []
  },
  "interpreter": {
   "hash": "b671c20432fcd147198c92e7f072af9e705f087eb990bee22b07f08caab9f630"
  },
  "kernelspec": {
   "display_name": "Python 3 (ipykernel)",
   "language": "python",
   "name": "python3"
  },
  "language_info": {
   "codemirror_mode": {
    "name": "ipython",
    "version": 3
   },
   "file_extension": ".py",
   "mimetype": "text/x-python",
   "name": "python",
   "nbconvert_exporter": "python",
   "pygments_lexer": "ipython3",
   "version": "3.6.9"
  }
 },
 "nbformat": 4,
 "nbformat_minor": 5
}
