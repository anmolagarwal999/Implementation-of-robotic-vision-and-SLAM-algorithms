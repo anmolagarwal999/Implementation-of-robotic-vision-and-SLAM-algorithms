{
 "cells": [
  {
   "cell_type": "markdown",
   "id": "b522c33d",
   "metadata": {
    "id": "b522c33d"
   },
   "source": [
    "# Assignment 1: Transformations and Representations\n",
    "\n",
    "Roll number: 2019101068\n"
   ]
  },
  {
   "cell_type": "markdown",
   "id": "2c7c7311",
   "metadata": {
    "id": "2c7c7311"
   },
   "source": [
    "# Instructions\n",
    "\n",
    "- Code must be written in Python in Jupyter Notebooks. We highly recommend using anaconda distribution or at the minimum, virtual environments for this assignment. \n",
    "- Save all your results in ```results/<question_number>/<sub_topic_number>/```\n",
    "- For this assignment, you will be using Open3D extensively. Refer to [Open3D Documentation](http://www.open3d.org/docs/release/): you can use the in-built methods and **unless explicitly mentioned**, don't need to code from scratch for this assignment. \n",
    "- Make sure your code is modular since you may need to reuse parts for future assignments.\n",
    "- Make sure any extra files you that you need to submit, place it in *'results'* folder.\n",
    "- Answer the descriptive questions in your own words with context & clarity. Do not copy answers from online resources or lecture notes.\n",
    "- The **deadline** for this assignment is on **23/08/2022 at 11:55pm**. Please note that there will be no extensions.\n",
    "- Plagiarism is **strictly prohibited**.\n"
   ]
  },
  {
   "cell_type": "markdown",
   "id": "bb6ccd58",
   "metadata": {
    "id": "bb6ccd58"
   },
   "source": [
    "# Submission Instructions\n",
    "\n",
    "1. Make sure your code runs without any errors after reinitializing the kernel and removing all saved variables.\n",
    "2. After completing your code and saving your results, zip the folder with name as ``<roll_number>_MR2022_<assignment_number>.zip``"
   ]
  },
  {
   "cell_type": "markdown",
   "id": "3a6c57fe",
   "metadata": {
    "id": "3a6c57fe"
   },
   "source": [
    "## 1. 3D Data and Open3D\n",
    "\n",
    "1. Please find mesh files in **data/Q1** folder. Using these mesh files and your own creativity/visualisation, create a \"Table\" **pointcloud** scene. The table scene should be realistic, scaled appropiately. Use all the meshes given in the folder and treat them as objects kept on the table. \n",
    "\n",
    "    You are expected to perform different functions on the individual mesh files: first convert the mesh files to pointclouds and on each pointcloud perform operations such as scaling, rotation, translation. Next, visualize them together. The visualization should represent a pointcloud of a realistic table scene. Save the scene as **.pcd** file. \n",
    "\n",
    "    **Please do not copy as we may use your contribution to create a table top dataset.**\n",
    "\n",
    "    Refer below image for example of a table-top scene:\n",
    "\n",
    "    <img src=\"img/1.jpeg\"  width=\"500\" >\n",
    "<br>\n",
    "<br>\n",
    "\n",
    "2. Use the final table scene pointcloud obtained from part 1. \n",
    "    - Use Open3D to generate partial pointclouds from different camera views (at least 4 views). This means, that you need to crop or capture the points in the pointcloud that are visible only from a given viewpoint. \n",
    "    - Using these partial pointclouds, you are now expected to generate the full scene pointcloud back by registering the pointclouds to a global frame. Save the partial and reconstructed pointclouds in different files. \n",
    "    - **[ BONUS ]** Finally, compute the error using \"Chamfer's Distance (CD)\" between the ground truth scene pointcloud and the reconstructed pointcloud. Perform an analysis: \n",
    "      1. Why is the CD not 0?\n",
    "      2. How does the CD change as the number of viewpoints increase / decrease? \n",
    "      3. Can we optimize the viewpoints (by hit and trial) such that the CD reduces?\n",
    "\n",
    "Refer the following link for solving Q1:\n",
    "- Hidden-Point-Removal Open3D API: http://www.open3d.org/docs/latest/tutorial/Basic/pointcloud.html#Hidden-point-removal\n",
    "\n",
    "- Chamfer's Distance:  https://pytorch3d.readthedocs.io/en/latest/modules/loss.html\n",
    "\n"
   ]
  },
  {
   "cell_type": "code",
   "execution_count": null,
   "id": "e3174677",
   "metadata": {
    "id": "e3174677"
   },
   "outputs": [],
   "source": []
  },
  {
   "cell_type": "markdown",
   "id": "d688be4e",
   "metadata": {
    "id": "d688be4e"
   },
   "source": [
    "## 2. Euler Angles, Rotation Matrices, and Quaternions\n",
    "1. Write a function (do not use inbuilt libraries for this question):\n",
    "    - that returns a rotation matrix given the angles $\\alpha$, $\\beta$, and $\\gamma$ in radians (X-Y-Z).\n",
    "    - to convert a rotation matrix to quaternion and vice versa. \n",
    "\n",
    "2. What is a Gimbal lock? Suppose an airplane increases its pitch from $0°$ to $90°$. \n",
    "\n",
    "    - Let $R_{gmb\\beta}$ be the rotation matrix for $\\beta=90°$. Find $R_{gmb\\beta}$.\n",
    "    - Consider the point $p = [0, 1, 0]ᵀ $ on the pitched airplane, i.e. the tip of the wing. Does there exist any $α , γ$ such that $p_{new} = R_{gmb\\beta}\\; p$ for:\n",
    "      1. $p_{new} = [1, 0, 0]ᵀ $\n",
    "      2. For some  $p_{new}$ on the XY unit circle?\n",
    "      3. For some  $p_{new}$ on the YZ unit circle?\n",
    "      \n",
    "      Show your work for all three parts and briefly explain your reasoning. Why is $\\beta=90°$  a “certain problematic value”?\n",
    "\n",
    "    <img src=\"img/2.3.jpeg\"  width=\"500\" ><br>\n",
    "    \n",
    "    <img src=\"img/2.1.jpeg\"  width=\"500\" ><br>\n",
    "\n",
    "    <img src=\"img/2.2.jpeg\"  width=\"500\" >\n",
    "    \n"
   ]
  },
  {
   "cell_type": "code",
   "execution_count": null,
   "id": "4a3b89f6",
   "metadata": {
    "id": "4a3b89f6"
   },
   "outputs": [],
   "source": []
  },
  {
   "cell_type": "markdown",
   "id": "0e69fddc",
   "metadata": {
    "id": "0e69fddc"
   },
   "source": [
    "## 3. Transformations and Homogeneous Coordinates\n",
    "\n",
    "1. Watch this [video](https://www.youtube.com/watch?v=PvEl63t-opM) to briefly understand homogeneous coordinates. \n",
    "    1. What are points at infinity? What type of transformation can you apply to transform a point from infinity to a point that is not at infinity? \n",
    "    2. Find the vanishing point for the given images in the **data/Q3** folder. Complete function **FilterLines()** and  **GetVanishingPoint()** in the given starter code.\n",
    "\n",
    "<br>\n",
    "\n",
    "2. Using homogeneous coordinates we can represent different types of transformation as point transforms vs. frame transforms. Concatenation of transforms (whether you post multiply transformation matrices or pre-multiply transformation matrices) depends on the problem and how you are viewing it. Try to understand the difference between frame vs. point transformations from this [video](https://youtu.be/Za7Sdegf8m8?t=1834). We have 5 camera frames A, B, C, D and E. Given *frame* transformation $A \\rightarrow B$ ,  $B \\rightarrow C$ ,  $D \\rightarrow C$ ,  $D \\rightarrow E$. Compute *frame transformation*  $D \\rightarrow E$. Also, given the co-ordinates of a point *x* in *D's* frame, what transformation is required to get *x's*  co-ordinates in *E's* frame? \n",
    "\n",
    "    <img src=\"img/3.jpeg\"  width=\"500\" >\n",
    "\n"
   ]
  },
  {
   "cell_type": "code",
   "execution_count": null,
   "id": "b3917ed0",
   "metadata": {
    "id": "b3917ed0"
   },
   "outputs": [],
   "source": [
    "import os\n",
    "import cv2\n",
    "import math\n",
    "import numpy as np\n",
    "import matplotlib.pyplot as plt\n",
    "\n",
    "def ReadImage(InputImagePath):\n",
    "    Images = []                     # Input Images will be stored in this list.\n",
    "    ImageNames = []                 # Names of input images will be stored in this list.\n",
    "    \n",
    "    # Checking if path is of file or folder.\n",
    "    if os.path.isfile(InputImagePath):\t\t\t\t\t\t    # If path is of file.\n",
    "        InputImage = cv2.imread(InputImagePath)                 # Reading the image.\n",
    "        \n",
    "        # Checking if image is read.\n",
    "        if InputImage is None:\n",
    "            print(\"Image not read. Provide a correct path\")\n",
    "            exit()\n",
    "        \n",
    "        Images.append(InputImage)                               # Storing the image.\n",
    "        ImageNames.append(os.path.basename(InputImagePath))     # Storing the image's name.\n",
    "\n",
    "\t# If path is of a folder contaning images.\n",
    "    elif os.path.isdir(InputImagePath):\n",
    "\t\t# Getting all image's name present inside the folder.\n",
    "        for ImageName in os.listdir(InputImagePath):\n",
    "\t\t\t# Reading images one by one.\n",
    "            InputImage = cv2.imread(InputImagePath + \"/\" + ImageName)\n",
    "\t\t\t\n",
    "            Images.append(InputImage)\t\t\t\t\t\t\t# Storing images.\n",
    "            ImageNames.append(ImageName)                        # Storing image's names.\n",
    "        \n",
    "    # If it is neither file nor folder(Invalid Path).\n",
    "    else:\n",
    "        print(\"\\nEnter valid Image Path.\\n\")\n",
    "        exit()\n",
    "\n",
    "    return Images, ImageNames\n",
    "        \n",
    "def GetLines(Image):\n",
    "    # Converting to grayscale\n",
    "    GrayImage = cv2.cvtColor(Image, cv2.COLOR_BGR2GRAY)\n",
    "    # Blurring image to reduce noise.\n",
    "    BlurGrayImage = cv2.GaussianBlur(GrayImage, (5, 5), 1)\n",
    "    # Generating Edge image\n",
    "    EdgeImage = cv2.Canny(BlurGrayImage, 40, 255)\n",
    "\n",
    "    # Finding Lines in the image\n",
    "    Lines = cv2.HoughLinesP(EdgeImage, 1, np.pi / 180, 50, 10, 15)\n",
    "\n",
    "    # Check if lines found and exit if not.\n",
    "    if Lines is None:\n",
    "        print(\"Not enough lines found in the image for Vanishing Point detection.\")\n",
    "        exit(0)\n",
    "    \n",
    "    return Lines\n",
    "    \n",
    "def FilterLines(Lines):\n",
    "  pass\n",
    "\n",
    "def GetVanishingPoint(FilteredLines):\n",
    "  pass\n",
    "\n",
    "Images, ImageNames = ReadImage(\"data/Q3\")            # Reading all input images\n",
    "\n",
    "\n",
    "for i in range(len(Images)):\n",
    "    Image = Images[i]\n",
    "\n",
    "    # Getting the lines form the image\n",
    "    Lines = GetLines(Image)\n",
    "\n",
    "    FilteredLines = FilterLines(Lines)\n",
    "    # Get vanishing point\n",
    "    VanishingPoint = GetVanishingPoint(FilteredLines)\n",
    "\n",
    "    # Checking if vanishing point found\n",
    "    if VanishingPoint is None:\n",
    "        print(\"Vanishing Point not found. Possible reason is that not enough lines are found in the image for determination of vanishing point.\")\n",
    "        continue\n",
    "\n",
    "    # Drawing lines and vanishing point\n",
    "    for Line in Lines:\n",
    "        cv2.line(Image, (Line[0], Line[1]), (Line[2], Line[3]), (0, 255, 0), 2)\n",
    "    cv2.circle(Image, (int(VanishingPoint[0]), int(VanishingPoint[1])), 10, (0, 0, 255), -1)\n",
    "\n",
    "    # Showing the final image\n",
    "    cv2.imshow(\"OutputImage\", Image)\n",
    "    cv2.waitKey(0)"
   ]
  },
  {
   "cell_type": "markdown",
   "id": "e5f08d84",
   "metadata": {
    "id": "e5f08d84"
   },
   "source": [
    "## 4. LiDAR and Registration\n",
    "\n",
    "Point clouds are a collection of points that represent a 3D shape or feature. Each point has its own set of X, Y and Z coordinates and in some cases additional attributes. A popular way to obtain this is by photogrammetry, though here we will use LiDAR data.\n",
    "\n",
    "LiDAR is a remote sensing process which collects measurements used to create 3D models and maps of objects and environments. Using ultraviolet, visible, or near-infrared light, LiDAR gauges spatial relationships and shapes by measuring the time it takes for signals to bounce off objects and return to the scanner.\n",
    "\n",
    "Download the data from [here](https://iiitaphyd-my.sharepoint.com/:f:/g/personal/venkata_surya_students_iiit_ac_in/EnYAMaTVIhJItzKYqtahE30BRKB6p6UfHN3TyJzvo6Mw0g?e=PegWds). It contains the LIDAR sensor output and odometry information per frame.\n",
    "\n",
    "  The .bin files contain the 3D point cloud captured by the LIDAR in this format - x, y, z, and reflectance. \n",
    "\n",
    "  The odometry information is given in the `odometry.txt` file, which is a 12 element vector. Reshape each of the first 77 rows to a 3x4 matrix to obtain the pose.\n",
    "    \n",
    "The point cloud obtained is with respect to the LiDAR frame. The poses however, are in the camera frame. If we want to combine the point clouds from various frames, we need to bring them to the camera frame. \n",
    "\n",
    "1. Refer to the image below and apply the required transformation to the point cloud. \n",
    "<br>\n",
    "\n",
    "    <img src=\"img/4.jpeg\"  width=\"500\" >\n",
    "\n",
    "<br>\n",
    "\n",
    "2. Then, register all point clouds into a common reference frame and visualise it (Open3D). It is helpful to use homogeneous coordinates to keep track of the different frames.\n",
    "\n",
    "3. Write a function to transform the registered point cloud from the world to the $i^{th}$ camera frame, wherein $i$ is the input to the function.\n",
    "\n",
    "\n"
   ]
  },
  {
   "cell_type": "code",
   "execution_count": null,
   "id": "directed-termination",
   "metadata": {
    "id": "directed-termination"
   },
   "outputs": [],
   "source": []
  }
 ],
 "metadata": {
  "colab": {
   "collapsed_sections": [],
   "name": "MR 2022 A1.ipynb",
   "provenance": []
  },
  "interpreter": {
   "hash": "b671c20432fcd147198c92e7f072af9e705f087eb990bee22b07f08caab9f630"
  },
  "kernelspec": {
   "display_name": "Python 3 (ipykernel)",
   "language": "python",
   "name": "python3"
  },
  "language_info": {
   "codemirror_mode": {
    "name": "ipython",
    "version": 3
   },
   "file_extension": ".py",
   "mimetype": "text/x-python",
   "name": "python",
   "nbconvert_exporter": "python",
   "pygments_lexer": "ipython3",
   "version": "3.6.9"
  }
 },
 "nbformat": 4,
 "nbformat_minor": 5
}
