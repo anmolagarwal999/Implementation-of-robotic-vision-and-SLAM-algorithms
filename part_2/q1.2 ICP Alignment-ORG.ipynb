{
 "cells": [
  {
   "cell_type": "markdown",
   "metadata": {},
   "source": [
    "# Assignment 2: ICP and Pose Graph Optimisation\n",
    "\n",
    "Roll number: 2019101068\n",
    "\n",
    "# Instructions\n",
    "\n",
    "- Code must be written in Python in Jupyter Notebooks. We highly recommend using an anaconda distribution or at the minimum, virtual environments for this assignment. \n",
    "- Save all your results in ```results/<question_number>/<sub_topic_number>/```\n",
    "- You are not allowed to use any external libraries (other than ones being imported below). You can import functions provided in helper library, if any.\n",
    "- Make sure any extra files that you need to submit are placed in the *'results'* folder.\n",
    "- Answer the descriptive questions in your own words with context & clarity. Do not copy answers from online resources or lecture notes.\n",
    "- The **deadline** for this assignment is on **14/09/2022 at 11:55pm**. Please note that there will be no extensions.\n",
    "- Plagiarism is **strictly prohibited**.\n"
   ]
  },
  {
   "cell_type": "code",
   "execution_count": 1,
   "metadata": {},
   "outputs": [
    {
     "name": "stdout",
     "output_type": "stream",
     "text": [
      "Jupyter environment detected. Enabling Open3D WebVisualizer.\n",
      "[Open3D INFO] WebRTC GUI backend enabled.\n",
      "[Open3D INFO] WebRTCWindowSystem: HTTP handshake server disabled.\n"
     ]
    }
   ],
   "source": [
    "import math\n",
    "import numpy as np\n",
    "from matplotlib import pyplot as plt\n",
    "import open3d as o3d\n",
    "import copy\n",
    "import seaborn as sns\n",
    "from matplotlib.image import imread"
   ]
  },
  {
   "cell_type": "markdown",
   "metadata": {},
   "source": [
    "# 1. Iterative Closest Point\n",
    "\n",
    "In this subsection, you have to code the Iterative Closest Point algorithm to find the alignment between two point clouds **with and without known correspondences**. Writing modular code will be helpful to you later."
   ]
  },
  {
   "cell_type": "code",
   "execution_count": null,
   "metadata": {},
   "outputs": [],
   "source": []
  },
  {
   "cell_type": "markdown",
   "metadata": {},
   "source": [
    "\n",
    "## 1.2: ICP Alignment\n",
    "\n",
    "### todo: 1\n",
    "\n",
    "1. Convert RGBD data to a corresponding point cloud. Check folder  `data/1/2/` for two different RGBD data.\n",
    "    - Refer `helpers/pcd_from_rgbd.py` to compute the same. You need not understand it right now, as it'll get covered in later lectures.\n",
    "    - Use file `data/1/2/camera_param.txt` for focalX, focalY, centerX, centerY, scaling factor values repectively.\n"
   ]
  },
  {
   "cell_type": "code",
   "execution_count": 2,
   "metadata": {},
   "outputs": [],
   "source": [
    "import importlib"
   ]
  },
  {
   "cell_type": "code",
   "execution_count": 3,
   "metadata": {},
   "outputs": [
    {
     "data": {
      "text/plain": [
       "<module 'mr_utils' from '/home/anmolagarwal/Desktop/mr_assignment_2/mr_utils.py'>"
      ]
     },
     "execution_count": 3,
     "metadata": {},
     "output_type": "execute_result"
    }
   ],
   "source": [
    "import mr_utils\n",
    "importlib.reload(mr_utils)"
   ]
  },
  {
   "cell_type": "code",
   "execution_count": 4,
   "metadata": {},
   "outputs": [],
   "source": [
    "import helpers.pcd_from_rgbd"
   ]
  },
  {
   "cell_type": "code",
   "execution_count": null,
   "metadata": {},
   "outputs": [],
   "source": []
  },
  {
   "cell_type": "code",
   "execution_count": 5,
   "metadata": {},
   "outputs": [],
   "source": [
    "rgb_img_paths = [\"data/1/2/rgbd1/533.jpg\",\"data/1/2/rgbd2/729.jpg\"]\n",
    "depth_img_paths = [\"data/1/2/rgbd1/533.png\",\"data/1/2/rgbd2/729.png\" ]\n",
    "pcd_save_paths=[\"./saved_pcd_data/pcd_1.pcd\",\"./saved_pcd_data/pcd_2.pcd\" ]\n",
    "\n",
    "    "
   ]
  },
  {
   "cell_type": "raw",
   "metadata": {
    "scrolled": true
   },
   "source": [
    "for rgb_path, depth_path, pcd_path in zip(rgb_img_paths, depth_img_paths, pcd_save_paths):\n",
    "        pcd, srcPxs = helpers.pcd_from_rgbd.getPointCloud(rgb_path, depth_path)\n",
    "        o3d.io.write_point_cloud(pcd_path, pcd)\n"
   ]
  },
  {
   "cell_type": "code",
   "execution_count": 6,
   "metadata": {},
   "outputs": [],
   "source": [
    "img = imread(rgb_img_paths[1])"
   ]
  },
  {
   "cell_type": "markdown",
   "metadata": {},
   "source": [
    "#### The image has (800, 800) pixels"
   ]
  },
  {
   "cell_type": "code",
   "execution_count": 7,
   "metadata": {},
   "outputs": [
    {
     "data": {
      "text/plain": [
       "(800, 800, 3)"
      ]
     },
     "execution_count": 7,
     "metadata": {},
     "output_type": "execute_result"
    }
   ],
   "source": [
    "img.shape"
   ]
  },
  {
   "cell_type": "markdown",
   "metadata": {},
   "source": [
    "## EXP"
   ]
  },
  {
   "cell_type": "markdown",
   "metadata": {},
   "source": [
    "#### Taking backup to verify that final translation and rotation are being calculated correctly"
   ]
  },
  {
   "cell_type": "code",
   "execution_count": 8,
   "metadata": {
    "scrolled": true
   },
   "outputs": [
    {
     "name": "stdout",
     "output_type": "stream",
     "text": [
      "pcd 1 has 30362 points\n",
      "pcd 2 has 19636 points\n",
      "Before initial rotation and translation\n",
      "After initial rotation and translation\n"
     ]
    }
   ],
   "source": [
    "icp_obj = mr_utils.icp_pcl(pcd_save_paths[0], pcd_save_paths[1], downsample=True)"
   ]
  },
  {
   "cell_type": "code",
   "execution_count": 9,
   "metadata": {},
   "outputs": [],
   "source": [
    "pcd_1_pts_backup = copy.deepcopy(np.asarray(icp_obj.pcd1.points))"
   ]
  },
  {
   "cell_type": "code",
   "execution_count": 10,
   "metadata": {
    "scrolled": true
   },
   "outputs": [
    {
     "name": "stdout",
     "output_type": "stream",
     "text": [
      "Current itr number is  1\n",
      "Frob norm is  1452806.1125127308\n",
      "Chamfer is  2274478.615559538\n",
      "term 1 is  1452806.1125127308\n",
      "term 2 is  821672.5030468074\n",
      "###########\n",
      "Current itr number is  2\n",
      "Frob norm is  1129121.8161311087\n",
      "Chamfer is  2018856.578634944\n",
      "term 1 is  1129121.8161311087\n",
      "term 2 is  889734.7625038354\n",
      "###########\n",
      "Current itr number is  3\n",
      "Frob norm is  1003481.8161649917\n",
      "Chamfer is  1934145.1461441165\n",
      "term 1 is  1003481.8161649917\n",
      "term 2 is  930663.3299791248\n",
      "###########\n",
      "Current itr number is  4\n",
      "Frob norm is  938367.3599531465\n",
      "Chamfer is  1900436.8563510305\n",
      "term 1 is  938367.3599531465\n",
      "term 2 is  962069.4963978841\n",
      "###########\n",
      "Current itr number is  5\n",
      "Frob norm is  885557.493110476\n",
      "Chamfer is  1877180.6352367494\n",
      "term 1 is  885557.493110476\n",
      "term 2 is  991623.1421262736\n",
      "###########\n",
      "Current itr number is  6\n",
      "Frob norm is  825489.2255887131\n",
      "Chamfer is  1849795.9704788635\n",
      "term 1 is  825489.2255887131\n",
      "term 2 is  1024306.7448901505\n",
      "###########\n",
      "Current itr number is  7\n",
      "Frob norm is  762485.9872708919\n",
      "Chamfer is  1827524.019145697\n",
      "term 1 is  762485.9872708919\n",
      "term 2 is  1065038.031874805\n",
      "###########\n",
      "Current itr number is  8\n",
      "Frob norm is  714318.4361297569\n",
      "Chamfer is  1823789.6126836347\n",
      "term 1 is  714318.4361297569\n",
      "term 2 is  1109471.176553878\n",
      "###########\n",
      "Current itr number is  9\n",
      "Frob norm is  685964.1097549959\n",
      "Chamfer is  1837441.73241678\n",
      "term 1 is  685964.1097549959\n",
      "term 2 is  1151477.622661784\n",
      "###########\n",
      "Current itr number is  10\n",
      "Frob norm is  670529.6014794845\n",
      "Chamfer is  1856210.5848090106\n",
      "term 1 is  670529.6014794845\n",
      "term 2 is  1185680.9833295261\n",
      "###########\n",
      "Current itr number is  11\n",
      "Frob norm is  662465.432995712\n",
      "Chamfer is  1873661.1082032411\n",
      "term 1 is  662465.432995712\n",
      "term 2 is  1211195.6752075292\n",
      "###########\n",
      "Current itr number is  12\n",
      "Frob norm is  658355.0167040065\n",
      "Chamfer is  1887371.8368320116\n",
      "term 1 is  658355.0167040065\n",
      "term 2 is  1229016.820128005\n",
      "###########\n",
      "Current itr number is  13\n",
      "Frob norm is  656134.3418121476\n",
      "Chamfer is  1898835.9603418992\n",
      "term 1 is  656134.3418121476\n",
      "term 2 is  1242701.6185297514\n",
      "###########\n",
      "Current itr number is  14\n",
      "Frob norm is  654921.120507987\n",
      "Chamfer is  1907233.9843562162\n",
      "term 1 is  654921.120507987\n",
      "term 2 is  1252312.8638482292\n",
      "###########\n",
      "Current itr number is  15\n",
      "Frob norm is  654210.5456558325\n",
      "Chamfer is  1914000.2323971102\n",
      "term 1 is  654210.5456558325\n",
      "term 2 is  1259789.6867412778\n",
      "###########\n",
      "Current itr number is  16\n",
      "Frob norm is  653838.6713138599\n",
      "Chamfer is  1919810.2248573764\n",
      "term 1 is  653838.6713138599\n",
      "term 2 is  1265971.5535435164\n",
      "###########\n",
      "Current itr number is  17\n",
      "Frob norm is  653648.5565030648\n",
      "Chamfer is  1923924.6503086118\n",
      "term 1 is  653648.5565030648\n",
      "term 2 is  1270276.093805547\n",
      "###########\n",
      "Current itr number is  18\n",
      "Frob norm is  653548.6141506378\n",
      "Chamfer is  1926287.7089575522\n",
      "term 1 is  653548.6141506378\n",
      "term 2 is  1272739.0948069145\n",
      "###########\n",
      "Current itr number is  19\n",
      "Frob norm is  653494.4293270721\n",
      "Chamfer is  1928426.635689337\n",
      "term 1 is  653494.4293270721\n",
      "term 2 is  1274932.206362265\n",
      "###########\n",
      "Current itr number is  20\n",
      "Frob norm is  653465.2567239051\n",
      "Chamfer is  1929867.0416496913\n",
      "term 1 is  653465.2567239051\n",
      "term 2 is  1276401.784925786\n",
      "###########\n",
      "Current itr number is  21\n",
      "Frob norm is  653449.2798148642\n",
      "Chamfer is  1930965.6193835912\n",
      "term 1 is  653449.2798148642\n",
      "term 2 is  1277516.339568727\n",
      "###########\n",
      "Current itr number is  22\n",
      "Frob norm is  653439.8706643112\n",
      "Chamfer is  1931777.0726399128\n",
      "term 1 is  653439.8706643112\n",
      "term 2 is  1278337.2019756017\n",
      "###########\n",
      "Current itr number is  23\n",
      "Frob norm is  653433.6680647419\n",
      "Chamfer is  1932483.292149284\n",
      "term 1 is  653433.6680647419\n",
      "term 2 is  1279049.624084542\n",
      "###########\n",
      "Current itr number is  24\n",
      "Frob norm is  653429.7245958465\n",
      "Chamfer is  1932815.2183430959\n",
      "term 1 is  653429.7245958465\n",
      "term 2 is  1279385.4937472492\n",
      "###########\n",
      "Current itr number is  25\n",
      "Frob norm is  653427.2678524875\n",
      "Chamfer is  1933013.2631110062\n",
      "term 1 is  653427.2678524875\n",
      "term 2 is  1279585.9952585187\n",
      "###########\n",
      "Current itr number is  26\n",
      "Frob norm is  653425.808025248\n",
      "Chamfer is  1933135.0589485234\n",
      "term 1 is  653425.808025248\n",
      "term 2 is  1279709.2509232752\n",
      "###########\n",
      "Current itr number is  27\n",
      "Frob norm is  653424.7933811491\n",
      "Chamfer is  1933280.742882364\n",
      "term 1 is  653424.7933811491\n",
      "term 2 is  1279855.9495012148\n",
      "###########\n",
      "Current itr number is  28\n",
      "Frob norm is  653424.1376742354\n",
      "Chamfer is  1933415.8206782383\n",
      "term 1 is  653424.1376742354\n",
      "term 2 is  1279991.6830040028\n",
      "###########\n",
      "Current itr number is  29\n",
      "Frob norm is  653423.8104760498\n",
      "Chamfer is  1933478.1903199805\n",
      "term 1 is  653423.8104760498\n",
      "term 2 is  1280054.3798439307\n",
      "###########\n",
      "Current itr number is  30\n",
      "Frob norm is  653423.6472040894\n",
      "Chamfer is  1933475.8567664765\n",
      "term 1 is  653423.6472040894\n",
      "term 2 is  1280052.209562387\n",
      "###########\n",
      "Current itr number is  31\n",
      "Frob norm is  653423.582432195\n",
      "Chamfer is  1933504.8898603078\n",
      "term 1 is  653423.582432195\n",
      "term 2 is  1280081.3074281127\n",
      "###########\n",
      "Current itr number is  32\n",
      "Frob norm is  653423.5382628794\n",
      "Chamfer is  1933521.6863677376\n",
      "term 1 is  653423.5382628794\n",
      "term 2 is  1280098.1481048584\n",
      "###########\n",
      "Current itr number is  33\n",
      "Frob norm is  653423.5209494061\n",
      "Chamfer is  1933563.989777718\n",
      "term 1 is  653423.5209494061\n",
      "term 2 is  1280140.468828312\n",
      "###########\n",
      "Current itr number is  34\n",
      "Frob norm is  653423.5118746293\n",
      "Chamfer is  1933592.228473993\n",
      "term 1 is  653423.5118746293\n",
      "term 2 is  1280168.7165993636\n",
      "###########\n",
      "Current itr number is  35\n",
      "Frob norm is  653423.4975055791\n",
      "Chamfer is  1933618.0055130124\n",
      "term 1 is  653423.4975055791\n",
      "term 2 is  1280194.5080074333\n",
      "###########\n",
      "Current itr number is  36\n",
      "Frob norm is  653423.4823798554\n",
      "Chamfer is  1933630.1280159866\n",
      "term 1 is  653423.4823798554\n",
      "term 2 is  1280206.6456361313\n",
      "###########\n",
      "Current itr number is  37\n",
      "Frob norm is  653423.4761293322\n",
      "Chamfer is  1933636.7988632717\n",
      "term 1 is  653423.4761293322\n",
      "term 2 is  1280213.3227339396\n",
      "###########\n",
      "Current itr number is  38\n",
      "Frob norm is  653423.46925826\n",
      "Chamfer is  1933632.47552877\n",
      "term 1 is  653423.46925826\n",
      "term 2 is  1280209.00627051\n",
      "###########\n",
      "Current itr number is  39\n",
      "Frob norm is  653423.4655651201\n",
      "Chamfer is  1933643.116946828\n",
      "term 1 is  653423.4655651201\n",
      "term 2 is  1280219.651381708\n",
      "###########\n",
      "Current itr number is  40\n",
      "Frob norm is  653423.4626547688\n",
      "Chamfer is  1933651.383768091\n",
      "term 1 is  653423.4626547688\n",
      "term 2 is  1280227.9211133223\n",
      "###########\n",
      "Current itr number is  41\n",
      "Frob norm is  653423.4613089027\n",
      "Chamfer is  1933652.7245150013\n",
      "term 1 is  653423.4613089027\n",
      "term 2 is  1280229.2632060985\n",
      "###########\n",
      "Current itr number is  42\n",
      "Frob norm is  653423.4606988034\n",
      "Chamfer is  1933653.6035069113\n",
      "term 1 is  653423.4606988034\n",
      "term 2 is  1280230.142808108\n",
      "###########\n",
      "Current itr number is  43\n",
      "Frob norm is  653423.4600107848\n",
      "Chamfer is  1933651.4918419784\n",
      "term 1 is  653423.4600107848\n",
      "term 2 is  1280228.0318311937\n",
      "###########\n",
      "Current itr number is  44\n",
      "Frob norm is  653423.4598632617\n",
      "Chamfer is  1933652.3734271545\n",
      "term 1 is  653423.4598632617\n",
      "term 2 is  1280228.9135638927\n",
      "###########\n",
      "Current itr number is  45\n",
      "Frob norm is  653423.4598597572\n",
      "Chamfer is  1933652.4930224526\n",
      "term 1 is  653423.4598597572\n",
      "term 2 is  1280229.0331626954\n",
      "Tolerance value not crossed, breaking loop\n"
     ]
    }
   ],
   "source": [
    "icp_obj.start_icp()"
   ]
  },
  {
   "cell_type": "code",
   "execution_count": 11,
   "metadata": {},
   "outputs": [],
   "source": [
    "#a=icp_obj.pcd1.voxel_down_sample(voxel_size=200)"
   ]
  },
  {
   "cell_type": "code",
   "execution_count": 12,
   "metadata": {
    "scrolled": true
   },
   "outputs": [],
   "source": [
    "#a"
   ]
  },
  {
   "cell_type": "code",
   "execution_count": 13,
   "metadata": {},
   "outputs": [],
   "source": [
    "o3d.visualization.draw_geometries([icp_obj.pcd1, icp_obj.pcd2, icp_obj.cf1, icp_obj.cf2])"
   ]
  },
  {
   "cell_type": "code",
   "execution_count": 14,
   "metadata": {},
   "outputs": [
    {
     "data": {
      "text/plain": [
       "3"
      ]
     },
     "execution_count": 14,
     "metadata": {},
     "output_type": "execute_result"
    }
   ],
   "source": [
    "np.asarray(icp_obj.pcd1.points).shape[1]"
   ]
  },
  {
   "cell_type": "code",
   "execution_count": 15,
   "metadata": {
    "scrolled": false
   },
   "outputs": [
    {
     "data": {
      "text/plain": [
       "array([[1., 0., 0., 0., 0.],\n",
       "       [0., 1., 0., 0., 0.],\n",
       "       [0., 0., 1., 0., 0.],\n",
       "       [0., 0., 0., 1., 0.],\n",
       "       [0., 0., 0., 0., 1.]])"
      ]
     },
     "execution_count": 15,
     "metadata": {},
     "output_type": "execute_result"
    }
   ],
   "source": [
    "np.eye(5)"
   ]
  },
  {
   "cell_type": "code",
   "execution_count": 16,
   "metadata": {
    "scrolled": true
   },
   "outputs": [
    {
     "data": {
      "text/plain": [
       "<matplotlib.legend.Legend at 0x7f91c3e27290>"
      ]
     },
     "execution_count": 16,
     "metadata": {},
     "output_type": "execute_result"
    },
    {
     "data": {
      "image/png": "[encoded data removed]",
      "text/plain": [
       "<Figure size 432x288 with 1 Axes>"
      ]
     },
     "metadata": {
      "needs_background": "light"
     },
     "output_type": "display_data"
    }
   ],
   "source": [
    "plt.plot(icp_obj.frob_history,color='r',label=\"frobenius norm\")\n",
    "plt.xlabel(\"Iterations\")\n",
    "plt.legend()"
   ]
  },
  {
   "cell_type": "code",
   "execution_count": 17,
   "metadata": {},
   "outputs": [
    {
     "data": {
      "text/plain": [
       "<matplotlib.legend.Legend at 0x7f91c3452c90>"
      ]
     },
     "execution_count": 17,
     "metadata": {},
     "output_type": "execute_result"
    },
    {
     "data": {
      "image/png": "[encoded data removed]",
      "text/plain": [
       "<Figure size 432x288 with 1 Axes>"
      ]
     },
     "metadata": {
      "needs_background": "light"
     },
     "output_type": "display_data"
    }
   ],
   "source": [
    "plt.plot(icp_obj.chamfer_history,color='b',label='chamfer distance')\n",
    "plt.xlabel(\"Iterations\")\n",
    "plt.legend()"
   ]
  },
  {
   "cell_type": "code",
   "execution_count": 18,
   "metadata": {},
   "outputs": [],
   "source": [
    "#icp_obj.final_rot"
   ]
  },
  {
   "cell_type": "code",
   "execution_count": 19,
   "metadata": {},
   "outputs": [],
   "source": [
    "#icp_obj.final_trans"
   ]
  },
  {
   "cell_type": "markdown",
   "metadata": {},
   "source": [
    "#### Final transformation matrix is :"
   ]
  },
  {
   "cell_type": "code",
   "execution_count": 20,
   "metadata": {},
   "outputs": [
    {
     "data": {
      "text/plain": [
       "array([[ 7.55715296e-01,  1.16650461e-01,  6.44427701e-01,\n",
       "         2.51385827e+04],\n",
       "       [-5.54801158e-02,  9.91874884e-01, -1.14482184e-01,\n",
       "        -1.51708215e+03],\n",
       "       [-6.52546050e-01,  5.07630137e-02,  7.56046803e-01,\n",
       "        -9.61356807e+03],\n",
       "       [ 0.00000000e+00,  0.00000000e+00,  0.00000000e+00,\n",
       "         1.00000000e+00]])"
      ]
     },
     "execution_count": 20,
     "metadata": {},
     "output_type": "execute_result"
    }
   ],
   "source": [
    "icp_obj.final_transf"
   ]
  },
  {
   "cell_type": "code",
   "execution_count": 21,
   "metadata": {},
   "outputs": [],
   "source": [
    "pcd_1_pts_now = copy.deepcopy(np.asarray(icp_obj.pcd1.points))"
   ]
  },
  {
   "cell_type": "code",
   "execution_count": 22,
   "metadata": {},
   "outputs": [],
   "source": [
    "pcd_1_pts_backup = np.append(pcd_1_pts_backup, np.ones((1, pcd_1_pts_backup.shape[0])).T, axis=1)"
   ]
  },
  {
   "cell_type": "code",
   "execution_count": 23,
   "metadata": {},
   "outputs": [],
   "source": [
    "pcd_1_pts_now_exp = icp_obj.final_transf@pcd_1_pts_backup.T"
   ]
  },
  {
   "cell_type": "code",
   "execution_count": 24,
   "metadata": {},
   "outputs": [],
   "source": [
    "pcd_1_pts_now_exp = pcd_1_pts_now_exp.T"
   ]
  },
  {
   "cell_type": "code",
   "execution_count": 25,
   "metadata": {},
   "outputs": [],
   "source": [
    "b=np.array(pcd_1_pts_now_exp)"
   ]
  },
  {
   "cell_type": "code",
   "execution_count": 26,
   "metadata": {},
   "outputs": [],
   "source": [
    "for idx ,row in enumerate(b):\n",
    "    \n",
    "    ans=row/row[-1]\n",
    "    b[idx]=ans\n",
    "    #print(ans)"
   ]
  },
  {
   "cell_type": "code",
   "execution_count": 27,
   "metadata": {},
   "outputs": [],
   "source": [
    "b = b[:, :-1]"
   ]
  },
  {
   "cell_type": "code",
   "execution_count": 28,
   "metadata": {},
   "outputs": [
    {
     "data": {
      "text/plain": [
       "array([ True])"
      ]
     },
     "execution_count": 28,
     "metadata": {},
     "output_type": "execute_result"
    }
   ],
   "source": [
    "np.unique(np.isclose(b, pcd_1_pts_now))"
   ]
  },
  {
   "cell_type": "code",
   "execution_count": 31,
   "metadata": {},
   "outputs": [
    {
     "data": {
      "text/plain": [
       "PointCloud with 30362 points."
      ]
     },
     "execution_count": 31,
     "metadata": {},
     "output_type": "execute_result"
    }
   ],
   "source": [
    "icp_obj.pcd1"
   ]
  },
  {
   "cell_type": "code",
   "execution_count": 32,
   "metadata": {
    "scrolled": true
   },
   "outputs": [
    {
     "data": {
      "text/plain": [
       "PointCloud with 19636 points."
      ]
     },
     "execution_count": 32,
     "metadata": {},
     "output_type": "execute_result"
    }
   ],
   "source": [
    "icp_obj.pcd2"
   ]
  },
  {
   "cell_type": "markdown",
   "metadata": {},
   "source": [
    "### Saving pcls for backup\n"
   ]
  },
  {
   "cell_type": "raw",
   "metadata": {},
   "source": [
    "o3d.io.write_point_cloud(\"saved_pcd_data/pcd_1_scene_backup.pcd\", icp_obj.pcd1)\n",
    "o3d.io.write_point_cloud(\"saved_pcd_data/pcd_2_scene_backup.pcd\", icp_obj.pcd2)"
   ]
  },
  {
   "cell_type": "markdown",
   "metadata": {},
   "source": [
    "### todo:2\n",
    "2. Write a function that takes two point clouds as input **without known correspondences** and performs the iterative closest point algorithm. **Assume a particular rotation and translation for initialization**. Mention it in the notebook itself."
   ]
  },
  {
   "cell_type": "markdown",
   "metadata": {},
   "source": [
    "### Ans: implementation done as a class `icp_pcl` in `mr_utils.py`"
   ]
  },
  {
   "cell_type": "markdown",
   "metadata": {},
   "source": [
    "\n",
    "### todo:3\n",
    "3. Perform the ICP alignment between the two point clouds and show their individual coordinate frames. Show a visualization of final alignment using `open3d`.\n",
    "\n"
   ]
  },
  {
   "cell_type": "markdown",
   "metadata": {},
   "source": [
    "\n",
    "### todo: 4\n",
    "4. Display the achieved alignment error(can show frobenius norm of the two point clouds) and final transformation matrix. Don't forget to log the initial alignment error as well. Also compute the **chamfer distance** between the two clouds.\n"
   ]
  },
  {
   "cell_type": "code",
   "execution_count": null,
   "metadata": {},
   "outputs": [],
   "source": []
  },
  {
   "cell_type": "markdown",
   "metadata": {},
   "source": [
    "\n",
    "### todo: 5\n",
    "5. Perform `steps 1-4` for the data in the `data/1/2/rgbd1` and `data/1/2/rgbd2` folders.\n",
    "\n"
   ]
  },
  {
   "cell_type": "code",
   "execution_count": null,
   "metadata": {},
   "outputs": [],
   "source": []
  },
  {
   "cell_type": "markdown",
   "metadata": {},
   "source": [
    "\n",
    "### todo: 6\n",
    "6. Mention the challenges that one can face to compute transformations between the ground-truth point clouds obtained from `rgbd1` and `rgbd2` data via the ICP function you wrote. \n",
    "\n",
    "**Ans:**\n",
    "There are several reasons. A lot of them have been described in detail in answer to `todo 7`. For this particular case, the main one I think is the incorrect correspondences. This is because the points are so dense, that using the nearest-neighbour based approach for finding correspondence is working very poorly. Also, due to the large motion between the 2 scenes has become another reason for finding poor correspondence. "
   ]
  },
  {
   "cell_type": "markdown",
   "metadata": {},
   "source": [
    "### TODO: 7\n",
    "#### Does ICP always give the correct alignment? Why or Why not? "
   ]
  },
  {
   "cell_type": "markdown",
   "metadata": {},
   "source": [
    "Ans: ICP DOES not always give correct alignment. Some of the reasons may be:\n",
    "\n",
    "**Reason 1)** There is always noise in the sensor readings. As a result, a perfect solution (with zero error) may NOT exist."
   ]
  },
  {
   "cell_type": "markdown",
   "metadata": {},
   "source": [
    "**Reason 2)** The Lidar/sensor may not always read the exact same point.\n",
    "Imagine a table kept in front of the robot with 4 edges. It is possible that for the first time, the lidar captures only the 2 diagnal edges and in the next frame, it captures only the 2 off-diagonal edges. In such a case, a correspondence DOES not exist at all for these 4 points in the opposite point cloud. The reason for this might be the low resolution of the lidar. **{Soln: Point to plane ICP}**"
   ]
  },
  {
   "cell_type": "markdown",
   "metadata": {},
   "source": [
    "**Reason 3)** Incorrect finding of correspondences. \n",
    "ICP will fail miserably if the incorrect correspondences are detected. "
   ]
  },
  {
   "cell_type": "markdown",
   "metadata": {},
   "source": [
    "**Reason 4)** There has been a large motion of one point cloud with respect to another.\n",
    "One possible solution can be for a human to eyeball and provide a good initial rotation and translation which gets the two point clouds pretty close to another."
   ]
  },
  {
   "cell_type": "markdown",
   "metadata": {},
   "source": [
    "### TODO: 8\n",
    "#### What are other variants of ICP and what are their advantages (you can look at point to plane ICP)?"
   ]
  },
  {
   "cell_type": "markdown",
   "metadata": {},
   "source": [
    "Some of the places where one can do better:\n",
    "\n",
    "1) Selecting the points\n",
    "* Using all points\n",
    "* Uniform-subsampling (to prevent less density)\n",
    "* Random sampling\n",
    "* Feature based sampling (ENsuring that the points which are chosen are diverse will make it easier to choose correspondences later on. features can include the color captured via a RGB camera.) \n",
    "![alt text](helper_images/feature.png \"Title\")\n",
    "* **Normal space sampling** (This ensures that surfaces have normals as uniformly distributed as possible). The intuition behind this is that: surfaces with a higher curvature are more suitable for alignment\n",
    "\n",
    "![alt text](helper_images/sampling_mech.png \"Title\")"
   ]
  },
  {
   "cell_type": "markdown",
   "metadata": {},
   "source": [
    "2) Weighting the correspondences\n",
    "* This may be assigned based on sensor uncertainity\n",
    "* Eg: assign lower wt for points wiith higher point-point distances\n",
    "* Determine transformation which minimzes the weighted error function \n",
    "* Eg: in stereo camera, uncertainity is higher for points at a larger depth"
   ]
  },
  {
   "cell_type": "markdown",
   "metadata": {},
   "source": [
    "3) Rejecting outlier points (whose distance to their correspondence is greater than a threshold)"
   ]
  },
  {
   "cell_type": "markdown",
   "metadata": {},
   "source": [
    "4) Change data association strategy\n",
    "* Normal shooting: project along normal and find closest point to normal\n",
    "![alt text](helper_images/normal.png \"Title\")\n",
    "* weight compatibility of points based on normals, curvature, colors etc:\n"
   ]
  },
  {
   "cell_type": "markdown",
   "metadata": {},
   "source": [
    "5) **Change error metric (Eg: Point to plane ICP)**: this is mainly to mitigate REASON 3 mentioned aboe.\n",
    "Here, we minimze the sum of squared distances between a point and the tangent plane at its correspondence point.\n",
    "![alt text](helper_images/plane.png \"Title\")\n",
    "\n",
    "**Example case:**\n",
    "\n",
    "Let p1 and p4 lie on a surface.\n",
    "Let P2 ,p3, p5 and p6 lie on another surface.\n",
    "Her,e ideally, P1<->P3 and P4<->P6. However, due to low sampling frequency of the scanner, it is possible that P3 and P5 are not captured at all, As a result, the correspondences are off. POINT TO PLANE ICP can help us capture the proper distances."
   ]
  },
  {
   "cell_type": "markdown",
   "metadata": {},
   "source": [
    "Ref for some of the points above: Lecture by Stachniss on ICP"
   ]
  },
  {
   "cell_type": "code",
   "execution_count": null,
   "metadata": {},
   "outputs": [],
   "source": []
  }
 ],
 "metadata": {
  "kernelspec": {
   "display_name": "Python [conda env:mr_assign_2] *",
   "language": "python",
   "name": "conda-env-mr_assign_2-py"
  },
  "language_info": {
   "codemirror_mode": {
    "name": "ipython",
    "version": 3
   },
   "file_extension": ".py",
   "mimetype": "text/x-python",
   "name": "python",
   "nbconvert_exporter": "python",
   "pygments_lexer": "ipython3",
   "version": "3.7.13"
  },
  "vscode": {
   "interpreter": {
    "hash": "916dbcbb3f70747c44a77c7bcd40155683ae19c65e1c03b4aa3499c5328201f1"
   }
  }
 },
 "nbformat": 4,
 "nbformat_minor": 2
}
