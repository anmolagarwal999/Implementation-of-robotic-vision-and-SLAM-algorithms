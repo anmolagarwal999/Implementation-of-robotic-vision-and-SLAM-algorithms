{
 "cells": [
  {
   "cell_type": "markdown",
   "metadata": {},
   "source": [
    "# Assignment 2: ICP and Pose Graph Optimisation\n",
    "\n",
    "Roll number: 2019101068\n",
    "\n",
    "# Instructions\n",
    "\n",
    "- Code must be written in Python in Jupyter Notebooks. We highly recommend using an anaconda distribution or at the minimum, virtual environments for this assignment. \n",
    "- Save all your results in ```results/<question_number>/<sub_topic_number>/```\n",
    "- You are not allowed to use any external libraries (other than ones being imported below). You can import functions provided in helper library, if any.\n",
    "- Make sure any extra files that you need to submit are placed in the *'results'* folder.\n",
    "- Answer the descriptive questions in your own words with context & clarity. Do not copy answers from online resources or lecture notes.\n",
    "- The **deadline** for this assignment is on **14/09/2022 at 11:55pm**. Please note that there will be no extensions.\n",
    "- Plagiarism is **strictly prohibited**.\n"
   ]
  },
  {
   "cell_type": "code",
   "execution_count": 1,
   "metadata": {},
   "outputs": [
    {
     "name": "stdout",
     "output_type": "stream",
     "text": [
      "Jupyter environment detected. Enabling Open3D WebVisualizer.\n",
      "[Open3D INFO] WebRTC GUI backend enabled.\n",
      "[Open3D INFO] WebRTCWindowSystem: HTTP handshake server disabled.\n"
     ]
    }
   ],
   "source": [
    "import math\n",
    "import numpy as np\n",
    "from matplotlib import pyplot as plt\n",
    "import open3d as o3d\n",
    "import copy\n",
    "import jax\n",
    "import jax.numpy as jnp\n",
    "from jax import random\n",
    "from jax import grad, jit"
   ]
  },
  {
   "cell_type": "markdown",
   "metadata": {},
   "source": [
    "# 2. Posegraph Optimisation\n",
    "\n",
    "\n",
    "## **First of all before moving ahead, briefly explain `SLAM`.**"
   ]
  },
  {
   "cell_type": "markdown",
   "metadata": {},
   "source": [
    "SLAM involves constructing or updating a map of an unknown environment while simultaneously keeping track of an agent's location within it."
   ]
  },
  {
   "cell_type": "markdown",
   "metadata": {},
   "source": [
    "SLAM addresses the problem of acquiring a spatial map of a mobile robot environment\n",
    "while simultaneously localizing the robot relative to\n",
    "this model."
   ]
  },
  {
   "cell_type": "markdown",
   "metadata": {},
   "source": [
    "If a sensor like lidar had zero noise and if correspondences were known, then there would be no need for explicit odometry measurements as the robot's position could then be accurately be determined using something like ICP."
   ]
  },
  {
   "cell_type": "markdown",
   "metadata": {},
   "source": [
    "If the odometry measurements were accurate, then there would be NO explicit need for mapping as the original measurements by sensor like Lidar (which kight have some noise) will be the best we can do."
   ]
  },
  {
   "cell_type": "markdown",
   "metadata": {},
   "source": [
    "In the most common SLAM setting, the robot is equipped with sensors that measure its own movements (e.g. odometry) and\n",
    "other sensors that perceive its surroundings (e.g. a laser range finder, sonar sensors, or a camera). In order to map the collected information about the environment, the robot has to know its position and orientation relative to the map. It therefore has to constantly localize itself in the environment with the help of the still incomplete (and likely inaccurate) map."
   ]
  },
  {
   "cell_type": "markdown",
   "metadata": {},
   "source": [
    "### ---------------------------------"
   ]
  },
  {
   "cell_type": "markdown",
   "metadata": {},
   "source": [
    "\n",
    "\n",
    "\n",
    "In this subsection, we are going to work with SLAM backend in a broad sense. We'll be dealing with only the **localization part of SLAM** here, i.e, \n",
    "defining the \n",
    "* motion model\n",
    "* residuals & corresponding Jacobian matrix\n",
    "* optimisations for non-linear least squares using Gradient descent, Gauss Newton and Levenberg–Marquardt. \n",
    "\n",
    "Since, one can draw correspondences in each step for 1-D and 2-D motion model, 1-D can be easily understood and 2-D can be just an extension of the 1-D case. Refer `helpers/1D-SLAM.ipynb` file for 1D-SLAM example.\n",
    "\n",
    "\n",
    "## 2.1: 1-D SLAM\n",
    "\n",
    "You have to replicate the example provided for 1D-SLAM via code from scratch. Follow below steps:-\n",
    "\n",
    "1. Go through the example and understand the optimization procedure.\n",
    "2. Generate the data as in the example.\n",
    "3. Write the derivatives of the function with respect to the constraints.\n",
    "4. Take an appropriate confidence matrix / covariance matrix / information matrix. **Mention the importance of the information matrix**.\n",
    "5. Create the final Jacobian by analysing yourself and verify it using jax's jacobian(explained in `helpers/Jax.ipynb`).\n",
    "6. Compute the best final pose estimate using **Gauss-Newton iterative optimiser** by implementing it from scratch.\n",
    "\n",
    "**Reference:** Update rules for different optimisers:\n",
    "\n",
    "\n",
    "- Gradient Descent\n",
    "\n",
    "$$\\delta x = -J^T \\Omega^\\top f(x)$$\n",
    "\n",
    "- Gauss Newton\n",
    "\n",
    "$$ \\delta \\mathbf{x} = - \\left ( \\mathbf{J^\\top \\cdot \\Sigma^{-1} \\cdot J} \\right )^{-1} \\; \\cdot \\;  \\mathbf{J^\\top \\cdot \\Sigma^{-1} \\cdot f(x)} $$\n",
    "\n",
    "- Levenberg Marquardt\n",
    "\n",
    "$$ \\delta x = - \\left ( \\mathbf{J^\\top \\cdot \\Omega \\cdot J} + \\lambda \\mathbf{I} \\right )^{-1} \\cdot \\mathbf{J^\\top \\cdot \\Omega^\\top \\cdot f(x)} $$\n",
    "\n",
    "$$ \\text{Note : information matrix} = \\Omega = \\Sigma^{-1} = \\text{inverse of covariance matrix} $$\n"
   ]
  },
  {
   "cell_type": "markdown",
   "metadata": {},
   "source": [
    "#### Generating the data\n",
    "The robot drives through its 1D environment and closes a loop by returning to its starting\n",
    "point.\n",
    "* Number of odometry constraints = 4\n",
    "* Number of loop closure constraints = 1\n",
    "\n",
    "\n",
    "The error for the 4 odometry constraints are of the form $\\left\\|f\\left(\\mathbf{x}_{i}, \\mathbf{u}_{i}\\right)-\\mathbf{x}_{i+1}\\right\\|_{\\mathbf{\\Sigma}_{i}}^{2}$ and the error for the one loop closure constraint is of the form $\\left\\|f\\left(\\mathbf{x}_{0}, \\mathbf{u}_{0,4}\\right)-\\mathbf{x}_{4}\\right\\|_{\\mathbf{\\Lambda}_{0,4}}^{2}$.\n",
    "\n",
    "\n",
    "Standard deviations for both the constraints are initialized as $0.1$. ($\\boldsymbol{\\sigma}_{i}=0.01 \\text { and } \\boldsymbol{\\lambda}_{0,4}=0.01$)"
   ]
  },
  {
   "cell_type": "code",
   "execution_count": 2,
   "metadata": {},
   "outputs": [
    {
     "name": "stdout",
     "output_type": "stream",
     "text": [
      "x_est (initial guess of the robot poses according to odometry) is  [0, 1.1, 2.1, 3.2, 0.5]\n"
     ]
    }
   ],
   "source": [
    "NUM_NODES = 5\n",
    "\n",
    "x_gt = [0, 1, 2, 3, 0]\n",
    "\n",
    "u_obs = [1.1, 1, 1.1, -2.7, 0]\n",
    "\n",
    "\n",
    "odom_std = 0.1\n",
    "\n",
    "loop_closure_std = 0.1\n",
    "\n",
    "x_origin = 0\n",
    "\n",
    "\n",
    "# Let us calculate what will be the poses of the robot guessed if we go by odometry measurements alone\n",
    "x_est = [0]\n",
    "for i in range(4):\n",
    "    x_est.append(x_est[-1]+u_obs[i])\n",
    "print(\"x_est (initial guess of the robot poses according to odometry) is \", x_est)"
   ]
  },
  {
   "cell_type": "markdown",
   "metadata": {},
   "source": [
    "Defining the function which takes: current position and odometry/loop closure measurement as input and outputs the next position based on this odometry/loop closure measurement. This function will depend on whether the odometry measurement is a rotation matrix, a quaternion etc.\n",
    "\n",
    "In our case, due to the motion being 1D in nature, this function is simply an add function."
   ]
  },
  {
   "cell_type": "code",
   "execution_count": 3,
   "metadata": {},
   "outputs": [],
   "source": [
    "def f_new_pose(curr_pose, constraint_obs):\n",
    "    return curr_pose + constraint_obs"
   ]
  },
  {
   "cell_type": "markdown",
   "metadata": {},
   "source": [
    "We also add an **anchor constraint** to the list of constraints. This is to set an absolute coordinate for $x_0$"
   ]
  },
  {
   "cell_type": "code",
   "execution_count": 4,
   "metadata": {},
   "outputs": [],
   "source": [
    "def calculate_residuals(x_curr_guess, U_OBS):\n",
    "    # determining how far is the current guess OFF from satisying the odometry constraints\n",
    "    \n",
    "    NUM_ORG_CONSTRAINTS = 4 + 1\n",
    "    \n",
    "    err_vec = []\n",
    "    for i in range(NUM_ORG_CONSTRAINTS):\n",
    "        idx_of_prev_pos = i\n",
    "        idx_of_next_pos = (i+1)%5\n",
    "        new_pose_est = f_new_pose(x_curr_guess[idx_of_prev_pos], U_OBS[idx_of_prev_pos])\n",
    "        \n",
    "        # error due to this constraint\n",
    "        err = new_pose_est  - x_curr_guess[idx_of_next_pos]\n",
    "        \n",
    "        if i == NUM_ORG_CONSTRAINTS-1:\n",
    "            # loop constraint is \n",
    "            err  = (x_curr_guess[0] + U_OBS[idx_of_prev_pos]) - x_curr_guess[-1]\n",
    "        \n",
    "        err_vec.append(err)\n",
    "        \n",
    "    # append the error due to anchor constraint\n",
    "    err = x_curr_guess[0] - 0\n",
    "    err_vec.append(err)\n",
    "    \n",
    "    return jnp.asarray(err_vec)"
   ]
  },
  {
   "cell_type": "code",
   "execution_count": 5,
   "metadata": {},
   "outputs": [
    {
     "name": "stderr",
     "output_type": "stream",
     "text": [
      "INFO - 2022-09-20 20:59:15,664 - xla_bridge - Unable to initialize backend 'tpu_driver': NOT_FOUND: Unable to find driver in registry given worker: \n",
      "INFO - 2022-09-20 20:59:15,664 - xla_bridge - Unable to initialize backend 'cuda': module 'jaxlib.xla_extension' has no attribute 'GpuAllocatorConfig'\n",
      "INFO - 2022-09-20 20:59:15,665 - xla_bridge - Unable to initialize backend 'rocm': module 'jaxlib.xla_extension' has no attribute 'GpuAllocatorConfig'\n",
      "INFO - 2022-09-20 20:59:15,666 - xla_bridge - Unable to initialize backend 'tpu': INVALID_ARGUMENT: TpuPlatform is not available.\n",
      "WARNING - 2022-09-20 20:59:15,667 - xla_bridge - No GPU/TPU found, falling back to CPU. (Set TF_CPP_MIN_LOG_LEVEL=0 and rerun for more info.)\n"
     ]
    },
    {
     "data": {
      "text/plain": [
       "DeviceArray([ 0. ,  0. ,  0. ,  0. , -0.5,  0. ], dtype=float32)"
      ]
     },
     "execution_count": 5,
     "metadata": {},
     "output_type": "execute_result"
    }
   ],
   "source": [
    "calculate_residuals(x_est, u_obs)"
   ]
  },
  {
   "cell_type": "markdown",
   "metadata": {},
   "source": [
    "### {TODO} **First of all before moving ahead, briefly explain `INFORMATION MATRICES INTUITION`.**"
   ]
  },
  {
   "cell_type": "markdown",
   "metadata": {},
   "source": [
    "The information matrix Ω is formed by the inverse of the matrix constructed using the standard deviations. Intuitively, the lower the standard deviation is, the better the reliability and hence, the weightage of the constraint.\n",
    "\n",
    "In the 1-d case, we can encode the information matrix as a vector."
   ]
  },
  {
   "cell_type": "code",
   "execution_count": 6,
   "metadata": {},
   "outputs": [
    {
     "name": "stdout",
     "output_type": "stream",
     "text": [
      "Weights are :  [100.0, 100.0, 100.0, 100.0, 100.0, 1000.0]\n"
     ]
    }
   ],
   "source": [
    "anchor_variance = 0.001\n",
    "inf_vec = [(1/odom_std)**2]*4 + [(1/loop_closure_std)**2] + [1/anchor_variance]\n",
    "print(\"Weights are : \", inf_vec)\n",
    "inf_mat = np.zeros((6, 6))"
   ]
  },
  {
   "cell_type": "code",
   "execution_count": 7,
   "metadata": {},
   "outputs": [],
   "source": [
    "for i in range(6):\n",
    "    inf_mat[i, i] = inf_vec[i]"
   ]
  },
  {
   "cell_type": "code",
   "execution_count": 8,
   "metadata": {},
   "outputs": [
    {
     "data": {
      "text/plain": [
       "array([[ 100.,    0.,    0.,    0.,    0.,    0.],\n",
       "       [   0.,  100.,    0.,    0.,    0.,    0.],\n",
       "       [   0.,    0.,  100.,    0.,    0.,    0.],\n",
       "       [   0.,    0.,    0.,  100.,    0.,    0.],\n",
       "       [   0.,    0.,    0.,    0.,  100.,    0.],\n",
       "       [   0.,    0.,    0.,    0.,    0., 1000.]])"
      ]
     },
     "execution_count": 8,
     "metadata": {},
     "output_type": "execute_result"
    }
   ],
   "source": [
    "inf_mat"
   ]
  },
  {
   "cell_type": "code",
   "execution_count": 9,
   "metadata": {},
   "outputs": [],
   "source": [
    "analytical_jacobian = jnp.array(\n",
    "                    [[1, -1, 0, 0, 0], #derivative of x0+u0-x1\n",
    "                   [0, 1, -1, 0, 0], #derivative of x1+u1-x2\n",
    "                   [0, 0, 1, -1, 0], #derivative of x2+u2-x2\n",
    "                   [0, 0, 0, 1, -1], #derivative of x3+u3-x3\n",
    "                   [1, 0, 0, 0, -1], #derivative of x0+u4 - (x4): by defn of the loop closure\n",
    "                   [1, 0, 0, 0, 0], #derivative of x0 - 0\n",
    "                  ])"
   ]
  },
  {
   "cell_type": "markdown",
   "metadata": {},
   "source": [
    "`jacfwd` uses forward-mode automatic differentiation, which is more efficient for “tall” Jacobian matrices, while `jacrev` uses reverse-mode, which is more efficient for “wide” Jacobian matrices. For matrices that are near-square, `jacfwd` probably **has an edge** over jacrev."
   ]
  },
  {
   "cell_type": "markdown",
   "metadata": {},
   "source": [
    "### See what the derivative is as per jax"
   ]
  },
  {
   "cell_type": "code",
   "execution_count": 10,
   "metadata": {},
   "outputs": [],
   "source": [
    "f = lambda X: calculate_residuals(X, u_obs) # Now f is just a function of variable to be differentiated\n",
    "J = jax.jacfwd(f)"
   ]
  },
  {
   "cell_type": "code",
   "execution_count": 11,
   "metadata": {},
   "outputs": [],
   "source": [
    "jacobian_as_per_jax = J(jnp.asarray(x_est))"
   ]
  },
  {
   "cell_type": "code",
   "execution_count": 12,
   "metadata": {},
   "outputs": [
    {
     "data": {
      "text/plain": [
       "DeviceArray([[ True,  True,  True,  True,  True],\n",
       "             [ True,  True,  True,  True,  True],\n",
       "             [ True,  True,  True,  True,  True],\n",
       "             [ True,  True,  True,  True,  True],\n",
       "             [ True,  True,  True,  True,  True],\n",
       "             [ True,  True,  True,  True,  True]], dtype=bool)"
      ]
     },
     "execution_count": 12,
     "metadata": {},
     "output_type": "execute_result"
    }
   ],
   "source": [
    "jnp.isclose(analytical_jacobian, jacobian_as_per_jax)"
   ]
  },
  {
   "cell_type": "markdown",
   "metadata": {},
   "source": [
    "#### Now, let us perform gaussian newton optimization iteratively from scratch"
   ]
  },
  {
   "cell_type": "code",
   "execution_count": 13,
   "metadata": {
    "scrolled": true
   },
   "outputs": [
    {
     "data": {
      "text/plain": [
       "DeviceArray([[ 1, -1,  0,  0,  0],\n",
       "             [ 0,  1, -1,  0,  0],\n",
       "             [ 0,  0,  1, -1,  0],\n",
       "             [ 0,  0,  0,  1, -1],\n",
       "             [ 1,  0,  0,  0, -1],\n",
       "             [ 1,  0,  0,  0,  0]], dtype=int32)"
      ]
     },
     "execution_count": 13,
     "metadata": {},
     "output_type": "execute_result"
    }
   ],
   "source": [
    "analytical_jacobian"
   ]
  },
  {
   "cell_type": "code",
   "execution_count": 14,
   "metadata": {},
   "outputs": [],
   "source": [
    "\n",
    "residuals = calculate_residuals(x_est, u_obs) # (6,1)\n",
    "ABS_ERR = int(residuals.T@inf_mat@residuals)"
   ]
  },
  {
   "cell_type": "code",
   "execution_count": 15,
   "metadata": {},
   "outputs": [
    {
     "data": {
      "text/plain": [
       "25"
      ]
     },
     "execution_count": 15,
     "metadata": {},
     "output_type": "execute_result"
    }
   ],
   "source": [
    "ABS_ERR"
   ]
  },
  {
   "cell_type": "code",
   "execution_count": 16,
   "metadata": {},
   "outputs": [
    {
     "data": {
      "text/plain": [
       "[0, 1.1, 2.1, 3.2, 0.5]"
      ]
     },
     "execution_count": 16,
     "metadata": {},
     "output_type": "execute_result"
    }
   ],
   "source": [
    "x_est"
   ]
  },
  {
   "cell_type": "code",
   "execution_count": 17,
   "metadata": {
    "scrolled": false
   },
   "outputs": [
    {
     "name": "stdout",
     "output_type": "stream",
     "text": [
      "Curr itr number is  1\n",
      "Estimate of pose at start of iteration is  [0.0, 1.1, 2.1, 3.2, 0.5]\n",
      "residuals are  [0.0, 0.0, 0.0, 0.0, -0.5, 0.0]\n",
      "dx is  [-0.0, -0.1, -0.2, -0.3, -0.4]\n",
      "new residuals are  [0.1, 0.1, 0.1, 0.1, -0.1, -0.0]\n",
      "new error is  2.5000011920928955\n",
      "########################\n",
      "Curr itr number is  2\n",
      "Estimate of pose at start of iteration is  [-0.0, 1.0, 1.9, 2.9, 0.1]\n",
      "residuals are  [0.1, 0.1, 0.1, 0.1, -0.1, -0.0]\n",
      "dx is  [0.0, -0.0, 0.0, -0.0, -0.0]\n",
      "new residuals are  [0.1, 0.1, 0.1, 0.1, -0.1, -0.0]\n",
      "new error is  2.5\n",
      "########################\n",
      "Curr itr number is  3\n",
      "Estimate of pose at start of iteration is  [-0.0, 1.0, 1.9, 2.9, 0.1]\n",
      "residuals are  [0.1, 0.1, 0.1, 0.1, -0.1, -0.0]\n",
      "dx is  [-0.0, 0.0, 0.0, -0.0, -0.0]\n",
      "new residuals are  [0.1, 0.1, 0.1, 0.1, -0.1, -0.0]\n",
      "new error is  2.5\n",
      "########################\n",
      "Curr itr number is  4\n",
      "Estimate of pose at start of iteration is  [-0.0, 1.0, 1.9, 2.9, 0.1]\n",
      "residuals are  [0.1, 0.1, 0.1, 0.1, -0.1, -0.0]\n",
      "dx is  [0.0, 0.0, 0.0, -0.0, 0.0]\n",
      "new residuals are  [0.1, 0.1, 0.1, 0.1, -0.1, -0.0]\n",
      "new error is  2.5\n",
      "########################\n",
      "Curr itr number is  5\n",
      "Estimate of pose at start of iteration is  [-0.0, 1.0, 1.9, 2.9, 0.1]\n",
      "residuals are  [0.1, 0.1, 0.1, 0.1, -0.1, -0.0]\n",
      "dx is  [-0.0, 0.0, 0.0, -0.0, -0.0]\n",
      "new residuals are  [0.1, 0.1, 0.1, 0.1, -0.1, -0.0]\n",
      "new error is  2.5\n",
      "########################\n",
      "Curr itr number is  6\n",
      "Estimate of pose at start of iteration is  [-0.0, 1.0, 1.9, 2.9, 0.1]\n",
      "residuals are  [0.1, 0.1, 0.1, 0.1, -0.1, -0.0]\n",
      "dx is  [0.0, 0.0, 0.0, -0.0, -0.0]\n",
      "new residuals are  [0.1, 0.1, 0.1, 0.1, -0.1, -0.0]\n",
      "new error is  2.5\n",
      "########################\n",
      "Curr itr number is  7\n",
      "Estimate of pose at start of iteration is  [-0.0, 1.0, 1.9, 2.9, 0.1]\n",
      "residuals are  [0.1, 0.1, 0.1, 0.1, -0.1, -0.0]\n",
      "dx is  [-0.0, 0.0, 0.0, -0.0, -0.0]\n",
      "new residuals are  [0.1, 0.1, 0.1, 0.1, -0.1, -0.0]\n",
      "new error is  2.5\n",
      "########################\n",
      "Curr itr number is  8\n",
      "Estimate of pose at start of iteration is  [-0.0, 1.0, 1.9, 2.9, 0.1]\n",
      "residuals are  [0.1, 0.1, 0.1, 0.1, -0.1, -0.0]\n",
      "dx is  [0.0, 0.0, 0.0, -0.0, -0.0]\n",
      "new residuals are  [0.1, 0.1, 0.1, 0.1, -0.1, -0.0]\n",
      "new error is  2.5\n",
      "########################\n",
      "Curr itr number is  9\n",
      "Estimate of pose at start of iteration is  [-0.0, 1.0, 1.9, 2.9, 0.1]\n",
      "residuals are  [0.1, 0.1, 0.1, 0.1, -0.1, -0.0]\n",
      "dx is  [0.0, 0.0, 0.0, -0.0, -0.0]\n",
      "new residuals are  [0.1, 0.1, 0.1, 0.1, -0.1, -0.0]\n",
      "new error is  2.5\n",
      "########################\n",
      "Curr itr number is  10\n",
      "Estimate of pose at start of iteration is  [-0.0, 1.0, 1.9, 2.9, 0.1]\n",
      "residuals are  [0.1, 0.1, 0.1, 0.1, -0.1, -0.0]\n",
      "dx is  [0.0, 0.0, 0.0, -0.0, -0.0]\n",
      "new residuals are  [0.1, 0.1, 0.1, 0.1, -0.1, -0.0]\n",
      "new error is  2.5\n",
      "########################\n"
     ]
    }
   ],
   "source": [
    "NUM_ITRS = 10\n",
    "\n",
    "err_tracker = [ABS_ERR]\n",
    "\n",
    "for curr_itr_num in range(1, NUM_ITRS+1):\n",
    "    \n",
    "    print(\"Curr itr number is \", curr_itr_num)\n",
    "    print(\"Estimate of pose at start of iteration is \", list(np.around(np.array(x_est),2)))\n",
    "    \n",
    "    #Due to the linear odometry and loop closure functions, the jacobian does not change \n",
    "    #with change in pose. \n",
    "    # Even then, for sake of uniformity, let us caluclate J again and again\n",
    "    J = analytical_jacobian # size = (6 x 5)\n",
    "    \n",
    "    # calculate error\n",
    "    # calculate H and b\n",
    "    \n",
    "    #H = J_t x Ω x J\n",
    "    H = J.T@inf_mat@J # (5 x 6) x (6 x 6) (6 x 5) = (5 x 5)\n",
    "    \n",
    "    # f(x0) is the error at the current estimated guessed pose\n",
    "    curr_err = calculate_residuals(x_est, u_obs)\n",
    "    print(\"residuals are \", list(np.around(np.array(curr_err),2)))\n",
    "    \n",
    "    # b = J_t x Ω_t x f(x0)\n",
    "    b = J.T@inf_mat.T@curr_err # (5 x 6) (6 x 6) (6 x 1) = (5 x 1)\n",
    "    \n",
    "    # (5 x 5) \n",
    "    dx = np.linalg.inv(H)@(-b)\n",
    "    print(\"dx is \", list(np.around(np.array(dx),2)))\n",
    "    \n",
    "    #x_new=x_now+dx\n",
    "    ALPHA = 1\n",
    "    x_est = [a + ALPHA * b for a, b in zip(x_est, dx)]\n",
    "\n",
    "    \n",
    "    new_residuals = calculate_residuals(x_est, u_obs) # (6,1)\n",
    "    ABS_ERR = 0.5*float(new_residuals.T@inf_mat@new_residuals)\n",
    "    print(\"new residuals are \", list(np.around(np.array(new_residuals),2)))\n",
    "    print(\"new error is \", ABS_ERR)\n",
    "    err_tracker.append(ABS_ERR)\n",
    "    \n",
    "    \n",
    "    \n",
    "    \n",
    "    # find best dx using H and b\n",
    "    \n",
    "    # make changes to current estimate to fetch new estimate\n",
    "    \n",
    "    print(\"########################\")"
   ]
  },
  {
   "cell_type": "code",
   "execution_count": 18,
   "metadata": {},
   "outputs": [
    {
     "data": {
      "text/plain": [
       "[<matplotlib.lines.Line2D at 0x7f55d0656e10>]"
      ]
     },
     "execution_count": 18,
     "metadata": {},
     "output_type": "execute_result"
    },
    {
     "data": {
      "image/png": "[encoded data removed]",
      "text/plain": [
       "<Figure size 432x288 with 1 Axes>"
      ]
     },
     "metadata": {
      "needs_background": "light"
     },
     "output_type": "display_data"
    }
   ],
   "source": [
    "plt.xlabel(\"Iterations done\")\n",
    "plt.ylabel(\"Error value (weighed by information matrix)\")\n",
    "plt.plot(err_tracker)"
   ]
  },
  {
   "cell_type": "code",
   "execution_count": 19,
   "metadata": {},
   "outputs": [
    {
     "name": "stdout",
     "output_type": "stream",
     "text": [
      "(0, -3.2782546e-10)\n",
      "(1, 1.0)\n",
      "(2, 1.9)\n",
      "(3, 2.9)\n",
      "(0, 0.1)\n"
     ]
    }
   ],
   "source": [
    "print(*list(zip(x_gt, list(np.asarray(x_est)))), sep=\"\\n\")"
   ]
  }
 ],
 "metadata": {
  "kernelspec": {
   "display_name": "Python [conda env:mr_assign_2] *",
   "language": "python",
   "name": "conda-env-mr_assign_2-py"
  },
  "language_info": {
   "codemirror_mode": {
    "name": "ipython",
    "version": 3
   },
   "file_extension": ".py",
   "mimetype": "text/x-python",
   "name": "python",
   "nbconvert_exporter": "python",
   "pygments_lexer": "ipython3",
   "version": "3.7.13"
  },
  "vscode": {
   "interpreter": {
    "hash": "916dbcbb3f70747c44a77c7bcd40155683ae19c65e1c03b4aa3499c5328201f1"
   }
  }
 },
 "nbformat": 4,
 "nbformat_minor": 2
}
