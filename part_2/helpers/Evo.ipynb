{
 "cells": [
  {
   "cell_type": "markdown",
   "id": "stopped-cycle",
   "metadata": {},
   "source": [
    "# Evo\n",
    "\n",
    "[EVO](https://github.com/MichaelGrupp/evo/) is a SLAM evaluation based library for handling, evaluating and comparing the trajectory output of odometry and SLAM algorithms.\n",
    "\n",
    "```\n",
    "pip3 install evo --upgrade --no-binary evo\n",
    "\n",
    "```\n",
    "See [EVO](https://github.com/MichaelGrupp/evo/) for more info. EVO doesn't directly support `g2o` format. We have to first convert `g2o` to `kitti`. A small script named `g2o_to_kitti.py` which does exactly this has been provided in `misc` folder. `python input_file.g2o name_of_output_file.kitti` to convert it to `kitti` format. Ex: `python gt.g2o gt.kitti`.\n",
    "\n",
    "Now that it is in `kitti` format, run\n",
    "```\n",
    "evo_rpe kitti gt.kitti opt.kitti -v --plot --plot_mode xy\n",
    "evo_ape kitti gt.kitti opt.kitti -v --plot --plot_mode xy\n",
    "evo_traj kitti gt.kitti opt.kitti -v --plot --plot_mode xy\n",
    "```\n",
    "\n"
   ]
  },
  {
   "cell_type": "markdown",
   "id": "b82f4fb5",
   "metadata": {},
   "source": [
    "\n",
    "What is APE and RPE?\n",
    "\n",
    "| Topic | APE/ATE | RPE |\n",
    "|-------|---------|-----|\n",
    "| capture     |  <br>  <br>  ATE/APE measures difference between ground truth points and estimated trajectory, obtained by an algorithm using sensor data as input. It is referred as mandatory performance maesure. <br>  <br>  |  <br>  <br>   RPE accounts for measuring SLAM result i.e. estimated trajectory accuracy by comparing reconstructed relative transformation between nearby poses to actual relative transformation i.e. ground truth. It is a recommended performance measure.  <br>  <br>   |\n",
    "| calculation | As a pre-processing step, we associate the estimated poses with ground truth poses using the timestamps. Based on this association, we align the true and the estimated trajectory using singular value decomposition. Finally, we compute the difference between each pair of poses, and output the mean/median/standard deviation of these differences. Therefore steps are:-  <br>  <br>  (1) - Align the estimated trajectory. <br>  <br> (2) - Calculate the RMSE using the aligned estimation and the groundtruth. <br>  <br>  |  <br>  <br>  The basic idea of relative error is that the estimation quality can be evaluated by measuring the relative relations between the states at different times.  <br>  <br>   (1) - Select some random sub-trajectory of length d.  <br>  <br>  (2) - Align each sub-trajectory using the first state.  <br>  <br>   (3) - Calculate the error of the end state of each sub-trajectory.  <br>  <br>   (4) - Collect the errors for all the sub-trajectories.  <br>  <br>   (5) - For different lengths d, repeat step 1-4. <br>  <br>  |\n",
    "| difference  | (1) -  Single number metric, easy for comparison. <br>  <br>   (2) - Sensitive to the time when the estimation error occurs.  For example, a rotation estimation error tends to give a larger ATE when it happens at the beginning of the trajectory than the situation when it occurs at the end. <br>  <br>   (3) - The ATE more appropriate for measuring the performance of visual SLAM systems. |  <br>   (1) - Informative statistics can be computed from the errors of all sub-trajectories. By changing the length d, the relative error can reflect both short(local consistency) and long term accuracy  <br>  <br>   (2) - Relatively complicated to compute.  <br>  <br>   (3) - The RPE more apropriate for measuring the drift of a visual odometry system, for example the drift per second.   <br>  <br>   |\n",
    "\n",
    "\n",
    "\n",
    "![](../misc/APE_RPE.png)\n",
    "\n",
    "Refer to the question for more details."
   ]
  },
  {
   "cell_type": "markdown",
   "id": "d37a5f32",
   "metadata": {},
   "source": []
  }
 ],
 "metadata": {
  "kernelspec": {
   "display_name": "Python 3 (ipykernel)",
   "language": "python",
   "name": "python3"
  },
  "language_info": {
   "codemirror_mode": {
    "name": "ipython",
    "version": 3
   },
   "file_extension": ".py",
   "mimetype": "text/x-python",
   "name": "python",
   "nbconvert_exporter": "python",
   "pygments_lexer": "ipython3",
   "version": "3.7.13"
  },
  "vscode": {
   "interpreter": {
    "hash": "916dbcbb3f70747c44a77c7bcd40155683ae19c65e1c03b4aa3499c5328201f1"
   }
  }
 },
 "nbformat": 4,
 "nbformat_minor": 5
}
