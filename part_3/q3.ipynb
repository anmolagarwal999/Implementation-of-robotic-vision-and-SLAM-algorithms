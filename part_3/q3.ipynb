{
 "cells": [
  {
   "cell_type": "markdown",
   "metadata": {},
   "source": [
    "# Assignment 3: DLT, Two-View Geometry and PnP\n",
    "\n",
    "Roll number: \\<Roll number here\\>\n",
    "\n",
    "# Instructions\n",
    "\n",
    "- Code must be written in Python in Jupyter Notebooks. We highly recommend using anaconda distribution or at the minimum, virtual environments for this assignment. \n",
    "- Save all your results in ```results/<question_number>/<sub_topic_number>/```\n",
    "- Make sure any extra files you that you need to submit, place it in *'results'* folder.\n",
    "- Answer the descriptive questions in your own words with context & clarity. Do not copy answers from online resources or lecture notes.\n",
    "- We recommend early start of this assignment. As this assignment is quite heavy.\n",
    "- **Download the data folder from this [link](https://iiitaphyd-my.sharepoint.com/:f:/g/personal/ayush_sharma_students_iiit_ac_in/ErFTcJxQfO1KhaCo3m_9erwBj8M6-eeN8AO8e1bl4MXcBg?e=pdJR7F)**\n",
    "- The **deadline** for this assignment is on **4/11/2022 at 11:55pm**.\n",
    "- Plagiarism is **strictly prohibited**.\n",
    "\n"
   ]
  },
  {
   "cell_type": "code",
   "execution_count": 1,
   "metadata": {},
   "outputs": [],
   "source": [
    "%matplotlib inline\n",
    "import matplotlib.pyplot as plt\n",
    "import matplotlib.image as mpimg\n",
    "import matplotlib.cm as cm\n",
    "import numpy as np\n",
    "np.random.seed(0)"
   ]
  },
  {
   "cell_type": "code",
   "execution_count": 2,
   "metadata": {},
   "outputs": [
    {
     "data": {
      "text/plain": [
       "<module 'helper_utils.estimation_related' from '/home/anmolagarwal/Desktop/mr_assignment_3/helper_utils/estimation_related.py'>"
      ]
     },
     "execution_count": 2,
     "metadata": {},
     "output_type": "execute_result"
    }
   ],
   "source": [
    "import cv2\n",
    "import importlib\n",
    "import matplotlib.pyplot as plt\n",
    "import json\n",
    "from copy import deepcopy\n",
    "import numpy as np\n",
    "import helper_utils.dlt_related as dlt_related\n",
    "importlib.reload(dlt_related)\n",
    "import helper_utils.annotate_images as img_helper\n",
    "importlib.reload(img_helper)\n",
    "import helper_utils.estimation_related as est_related\n",
    "importlib.reload(est_related)"
   ]
  },
  {
   "cell_type": "markdown",
   "metadata": {},
   "source": [
    "# 3. PnP\n",
    "\n",
    "This part of the assignment deals new camera pose measurement. Mention the **least number of correspondences** that PnP requires. Your task in this part is to recover new virtual camera's pose using an iterative Perspective-from-n-Points (PnP) algorithm. Follow the below points for other deliverables:-"
   ]
  },
  {
   "cell_type": "markdown",
   "metadata": {},
   "source": [
    "### TODO 1:"
   ]
  },
  {
   "cell_type": "markdown",
   "metadata": {},
   "source": [
    "\n",
    "1. Since, you already have 3D points from the previous part. View them in open3D. Synthesize a new image taken by a virtual monocular camera fixed at any arbitrary position and orientation. Generate 2D-3D corresspondences using ground truth camera pose extrinsic. You can use camera intrinsic from previous part."
   ]
  },
  {
   "cell_type": "markdown",
   "metadata": {},
   "source": [
    "##### Theory\n",
    "* P0P = 6 DOF\n",
    "* P1P = 4 DOF\n",
    "* P2P = 2 DOF\n",
    "* P3P = 0 DOF\n",
    "\n",
    "The more the points are away from coplanarity, the better it would be."
   ]
  },
  {
   "cell_type": "code",
   "execution_count": 3,
   "metadata": {},
   "outputs": [],
   "source": [
    "# These two libraries are recommended. You're free \n",
    "# to use other libraries but donot use function \n",
    "# that solves the probel out of the box itself.\n",
    "\n",
    "# import sympy as sp\n",
    "# from IPython.display import display"
   ]
  },
  {
   "cell_type": "markdown",
   "metadata": {},
   "source": [
    "##### Take Intrinsic camera matrix from data file"
   ]
  },
  {
   "cell_type": "markdown",
   "metadata": {},
   "source": [
    "382.1996765136719     381.8395690917969     312.7102355957031    247.72047424316406    1000.0"
   ]
  },
  {
   "cell_type": "markdown",
   "metadata": {},
   "source": [
    "##### Fx, Fy, Cx, Cy, Scaling factor"
   ]
  },
  {
   "cell_type": "markdown",
   "metadata": {},
   "source": [
    "<img src=\"https://wikimedia.org/api/rest_v1/media/math/render/svg/e712d4b11c471fba8d70b4ae2f8790328040c6fd\" alt=\"image 1\" width=\"400\"/>"
   ]
  },
  {
   "cell_type": "code",
   "execution_count": 4,
   "metadata": {},
   "outputs": [],
   "source": [
    "f_x = 382.1996765136719\n",
    "f_y = 381.83956909\n",
    "c_x = 312.7102355957031\n",
    "c_y = 247.72047424316406\n",
    "scaling_fac = 1000.0"
   ]
  },
  {
   "cell_type": "code",
   "execution_count": 5,
   "metadata": {},
   "outputs": [],
   "source": [
    "K_mat = np.array([\n",
    "    [f_x, scaling_fac, c_x,0],\n",
    "    [0, f_y, c_y,0],\n",
    "    [0, 0, 1,0]\n",
    "    \n",
    "])"
   ]
  },
  {
   "cell_type": "code",
   "execution_count": 6,
   "metadata": {},
   "outputs": [],
   "source": [
    "M_int = K_mat"
   ]
  },
  {
   "cell_type": "markdown",
   "metadata": {},
   "source": [
    "#### generate a random rotation and translation for testing purposes"
   ]
  },
  {
   "cell_type": "code",
   "execution_count": 7,
   "metadata": {},
   "outputs": [],
   "source": [
    "from scipy.stats import ortho_group"
   ]
  },
  {
   "cell_type": "code",
   "execution_count": 8,
   "metadata": {},
   "outputs": [],
   "source": [
    "rot = np.array(ortho_group.rvs(dim=3))"
   ]
  },
  {
   "cell_type": "code",
   "execution_count": 9,
   "metadata": {},
   "outputs": [
    {
     "data": {
      "text/plain": [
       "0.9999999999999999"
      ]
     },
     "execution_count": 9,
     "metadata": {},
     "output_type": "execute_result"
    }
   ],
   "source": [
    "np.linalg.det(rot)"
   ]
  },
  {
   "cell_type": "code",
   "execution_count": 10,
   "metadata": {},
   "outputs": [],
   "source": [
    "M_ext=np.zeros((4,4))"
   ]
  },
  {
   "cell_type": "markdown",
   "metadata": {},
   "source": [
    "##### Setting a random translation and equalizing with the rotation generated earlier"
   ]
  },
  {
   "cell_type": "markdown",
   "metadata": {},
   "source": [
    "<img src=\"https://wikimedia.org/api/rest_v1/media/math/render/svg/8debf2c38beb4c25685cd503a90d1a4edfb10a14\" alt=\"image 1\" width=\"400\"/>"
   ]
  },
  {
   "cell_type": "code",
   "execution_count": 11,
   "metadata": {},
   "outputs": [],
   "source": [
    "M_ext[0:3, 3]=np.random.rand(3)\n",
    "M_ext[0:3, 0:3]=rot\n",
    "M_ext[-1, -1]= 1"
   ]
  },
  {
   "cell_type": "code",
   "execution_count": 12,
   "metadata": {},
   "outputs": [
    {
     "name": "stdout",
     "output_type": "stream",
     "text": [
      "[[ 0.85771824  0.45413047  0.24100817  0.43758721]\n",
      " [ 0.1945646  -0.720634    0.66545567  0.891773  ]\n",
      " [ 0.47588238 -0.52388181 -0.70645864  0.96366276]\n",
      " [ 0.          0.          0.          1.        ]]\n"
     ]
    }
   ],
   "source": [
    "with np.printoptions(suppress=True):\n",
    "    print(M_ext)"
   ]
  },
  {
   "cell_type": "markdown",
   "metadata": {},
   "source": [
    "##### Calculate a camera projection matrix from these intrinsic and extrinsic matrices"
   ]
  },
  {
   "cell_type": "code",
   "execution_count": 13,
   "metadata": {},
   "outputs": [],
   "source": [
    "P_mat = M_int@M_ext"
   ]
  },
  {
   "cell_type": "code",
   "execution_count": 14,
   "metadata": {},
   "outputs": [
    {
     "name": "stdout",
     "output_type": "stream",
     "text": [
      "[[ 671.19752298 -710.88868964  536.65206629 1360.36590024]\n",
      " [ 192.17827046 -404.94282779   79.09303679  579.23321439]\n",
      " [   0.47588238   -0.52388181   -0.70645864    0.96366276]]\n"
     ]
    }
   ],
   "source": [
    "with np.printoptions(suppress=True):\n",
    "    print(P_mat)"
   ]
  },
  {
   "cell_type": "markdown",
   "metadata": {},
   "source": [
    "##### Generate artficial correspondences"
   ]
  },
  {
   "cell_type": "code",
   "execution_count": 15,
   "metadata": {},
   "outputs": [],
   "source": [
    "NUM_POINTS = 120\n",
    "X_world = []\n",
    "X_img  = []\n",
    "for i in range(NUM_POINTS):\n",
    "    sample_world_point=np.random.rand(4)\n",
    "    image_point=P_mat @ sample_world_point\n",
    "    X_world.append(sample_world_point)\n",
    "    X_img.append(image_point)\n",
    "X_world = np.array(X_world)\n",
    "X_img = np.array(X_img)"
   ]
  },
  {
   "cell_type": "code",
   "execution_count": 16,
   "metadata": {},
   "outputs": [
    {
     "data": {
      "text/plain": [
       "(120, 4)"
      ]
     },
     "execution_count": 16,
     "metadata": {},
     "output_type": "execute_result"
    }
   ],
   "source": [
    "X_world.shape"
   ]
  },
  {
   "cell_type": "code",
   "execution_count": 17,
   "metadata": {
    "scrolled": false
   },
   "outputs": [
    {
     "data": {
      "text/plain": [
       "(120, 3)"
      ]
     },
     "execution_count": 17,
     "metadata": {},
     "output_type": "execute_result"
    }
   ],
   "source": [
    "X_img.shape"
   ]
  },
  {
   "cell_type": "markdown",
   "metadata": {},
   "source": [
    "##### Just sanity checking the validity of the projection matrix"
   ]
  },
  {
   "cell_type": "code",
   "execution_count": 18,
   "metadata": {},
   "outputs": [
    {
     "name": "stdout",
     "output_type": "stream",
     "text": [
      "[[-0.  0.  0. -0.  0.  0. -0.  0. -0.  0.  0.  0. -0. -0.  0.  0.  0.  0.\n",
      "   0.  0.  0.  0.  0.  0.  0.  0.  0.  0.  0.  0.  0.  0.  0. -0.  0.  0.\n",
      "   0.  0.  0.  0.  0.  0.  0.  0. -0.  0. -0. -0. -0. -0.  0.  0.  0.  0.\n",
      "   0.  0.  0. -0.  0. -0. -0.  0.  0.  0.  0.  0.  0.  0.  0.  0.  0. -0.\n",
      "   0.  0.  0. -0. -0.  0.  0.  0.  0.  0.  0.  0.  0.  0.  0.  0.  0. -0.\n",
      "  -0.  0.  0.  0.  0.  0.  0.  0.  0.  0.  0.  0.  0.  0. -0.  0.  0.  0.\n",
      "   0.  0. -0.  0.  0. -0.  0.  0.  0.  0.  0.  0.]\n",
      " [ 0.  0.  0. -0.  0.  0. -0. -0.  0.  0.  0.  0.  0.  0.  0.  0.  0.  0.\n",
      "  -0. -0.  0.  0.  0. -0.  0.  0.  0.  0. -0.  0. -0.  0.  0. -0. -0.  0.\n",
      "   0.  0. -0.  0.  0.  0.  0.  0.  0. -0.  0.  0.  0. -0. -0.  0. -0. -0.\n",
      "   0.  0. -0.  0. -0.  0.  0.  0.  0.  0. -0.  0.  0.  0.  0. -0.  0. -0.\n",
      "   0.  0.  0.  0. -0. -0.  0.  0.  0.  0. -0.  0.  0.  0.  0.  0. -0.  0.\n",
      "   0.  0.  0. -0.  0.  0.  0.  0.  0.  0.  0. -0.  0. -0.  0.  0.  0. -0.\n",
      "   0.  0.  0.  0.  0.  0.  0.  0.  0.  0.  0.  0.]\n",
      " [-0.  0.  0. -0. -0. -0. -0.  0.  0. -0.  0.  0.  0.  0. -0. -0.  0. -0.\n",
      "  -0. -0.  0.  0. -0.  0.  0.  0.  0. -0.  0.  0.  0.  0.  0.  0. -0. -0.\n",
      "   0.  0. -0.  0. -0.  0.  0.  0.  0. -0. -0.  0.  0.  0. -0.  0.  0. -0.\n",
      "  -0.  0.  0. -0.  0.  0.  0.  0. -0.  0. -0.  0.  0.  0.  0.  0.  0.  0.\n",
      "   0.  0.  0.  0.  0.  0.  0.  0.  0. -0. -0. -0.  0.  0.  0.  0.  0. -0.\n",
      "  -0.  0.  0.  0.  0. -0. -0.  0. -0.  0. -0.  0.  0.  0.  0.  0. -0.  0.\n",
      "   0. -0.  0.  0.  0.  0.  0. -0. -0.  0. -0. -0.]]\n"
     ]
    }
   ],
   "source": [
    "# just rechecking validity of projection matrix\n",
    "with np.printoptions(suppress=True):\n",
    "    print(P_mat@X_world.T - X_img.T)"
   ]
  },
  {
   "cell_type": "markdown",
   "metadata": {},
   "source": [
    "### Start optimization"
   ]
  },
  {
   "cell_type": "markdown",
   "metadata": {},
   "source": [
    "##### I am using the notation as used in the book by `Boyd`"
   ]
  },
  {
   "cell_type": "markdown",
   "metadata": {},
   "source": [
    "## Normalizing 2D parameters\n",
    "The relation between P, K, R and C is:\n",
    "$$P = KR\\begin{bmatrix}I_{3\\times3} & -C\\end{bmatrix}$$\n",
    "\n",
    "Now, instead of solving: $x=P \\times X$, we solve for:\n",
    "$$K^{-1} x = R\\begin{bmatrix}I_{3\\times3} & -C\\end{bmatrix}  X$$\n",
    "\n",
    "where $K$, $x$ and $X$ are known. "
   ]
  },
  {
   "cell_type": "code",
   "execution_count": 19,
   "metadata": {},
   "outputs": [
    {
     "data": {
      "text/plain": [
       "(120, 3)"
      ]
     },
     "execution_count": 19,
     "metadata": {},
     "output_type": "execute_result"
    }
   ],
   "source": [
    "X_img.shape"
   ]
  },
  {
   "cell_type": "code",
   "execution_count": 20,
   "metadata": {},
   "outputs": [],
   "source": [
    "normalized_X_img = np.linalg.inv(K_mat[:3, :3])@X_img.T\n",
    "normalized_X_img = normalized_X_img.T"
   ]
  },
  {
   "cell_type": "code",
   "execution_count": 21,
   "metadata": {},
   "outputs": [
    {
     "data": {
      "text/plain": [
       "(120, 3)"
      ]
     },
     "execution_count": 21,
     "metadata": {},
     "output_type": "execute_result"
    }
   ],
   "source": [
    "normalized_X_img.shape"
   ]
  },
  {
   "cell_type": "markdown",
   "metadata": {},
   "source": [
    "##### Calculating the residual which we helpful in finding how error rudces via convergence"
   ]
  },
  {
   "cell_type": "code",
   "execution_count": 22,
   "metadata": {},
   "outputs": [],
   "source": [
    "def get_error(normalized_img_points, world_points, current_m_ext_guess):\n",
    "    e = residual(normalized_img_points, world_points, current_m_ext_guess)\n",
    "    \n",
    "    # ignoring the weight matrix existence for now\n",
    "    err = e @ e.T \n",
    "    return err"
   ]
  },
  {
   "cell_type": "code",
   "execution_count": 23,
   "metadata": {},
   "outputs": [],
   "source": [
    "def residual(normalized_img_points, world_points, current_m_ext_guess):\n",
    "    res = []\n",
    "    P = deepcopy(current_m_ext_guess.reshape((3,4)))\n",
    "    \n",
    "    for i in range(normalized_img_points.shape[0]):\n",
    "        #print(\"i is \", i)\n",
    "        proj_point = P @ world_points[i]\n",
    "        norm = (normalized_img_points[i] - proj_point)\n",
    "        # norm is across all dimensions\n",
    "        res.extend(norm)\n",
    "    #print(\"res is \", res)\n",
    "    return np.array(res)"
   ]
  },
  {
   "cell_type": "markdown",
   "metadata": {},
   "source": [
    "# Derivation of jacobian can be found in `/docs/jacobian calculation.pdf`"
   ]
  },
  {
   "cell_type": "code",
   "execution_count": 24,
   "metadata": {},
   "outputs": [],
   "source": [
    "def jacobian(points_2d, points_3d, P_guess):\n",
    "    \n",
    "    # for each point, we can estimate error across all 3 dimensions ie dx, dy, dz\n",
    "    J = np.zeros((3 * points_2d.shape[0], 12))\n",
    "    \n",
    "    for i in range(points_2d.shape[0]):\n",
    "        b1, b2, b3 = points_2d[i]\n",
    "        x, y, z, t = points_3d[i]\n",
    "        \n",
    "        idx = 3 * i\n",
    "        J[idx][0]  = -x\n",
    "        J[idx][1]  = -y\n",
    "        J[idx][2]  = -z\n",
    "        J[idx][3]  = -t\n",
    "        \n",
    "        idx = 3 * i + 1\n",
    "        J[idx][4]  = -x\n",
    "        J[idx][5]  = -y\n",
    "        J[idx][6]  = -z\n",
    "        J[idx][7]  = -t\n",
    "        \n",
    "        idx = 3 * i + 2\n",
    "        J[idx][8]  = -x\n",
    "        J[idx][9]  = -y\n",
    "        J[idx][10]  = -z\n",
    "        J[idx][11]  = -t\n",
    "\n",
    "        \n",
    "    return J"
   ]
  },
  {
   "cell_type": "markdown",
   "metadata": {},
   "source": [
    "##### Sanity check on residual ie the value of residual on ground truth should be zero"
   ]
  },
  {
   "cell_type": "code",
   "execution_count": 25,
   "metadata": {},
   "outputs": [],
   "source": [
    "res = residual(normalized_X_img, X_world,M_ext[:3, :])"
   ]
  },
  {
   "cell_type": "markdown",
   "metadata": {},
   "source": [
    "##### Find current jacobian"
   ]
  },
  {
   "cell_type": "code",
   "execution_count": 26,
   "metadata": {},
   "outputs": [],
   "source": [
    "jac = jacobian(normalized_X_img, X_world, M_ext[:3, :])"
   ]
  },
  {
   "cell_type": "code",
   "execution_count": 27,
   "metadata": {},
   "outputs": [
    {
     "name": "stdout",
     "output_type": "stream",
     "text": [
      "[[ 0.          0.          0.        ]\n",
      " [-0.83261985 -0.77815675 -0.87001215]\n",
      " [ 0.          0.          0.        ]\n",
      " ...\n",
      " [-0.6041178  -0.38280806 -0.89538588]\n",
      " [ 0.          0.          0.        ]\n",
      " [ 0.          0.          0.        ]]\n"
     ]
    }
   ],
   "source": [
    "with np.printoptions(suppress=True):\n",
    "    print(jac[5:, :3])"
   ]
  },
  {
   "cell_type": "code",
   "execution_count": 28,
   "metadata": {
    "scrolled": true
   },
   "outputs": [
    {
     "data": {
      "text/plain": [
       "<matplotlib.image.AxesImage at 0x7f8caa1af510>"
      ]
     },
     "execution_count": 28,
     "metadata": {},
     "output_type": "execute_result"
    },
    {
     "data": {
      "image/png": "[encoded data removed]",
      "text/plain": [
       "<Figure size 640x480 with 1 Axes>"
      ]
     },
     "metadata": {},
     "output_type": "display_data"
    }
   ],
   "source": [
    "plt.imshow(jac)"
   ]
  },
  {
   "cell_type": "code",
   "execution_count": 29,
   "metadata": {},
   "outputs": [
    {
     "data": {
      "text/plain": [
       "(360, 12)"
      ]
     },
     "execution_count": 29,
     "metadata": {},
     "output_type": "execute_result"
    }
   ],
   "source": [
    "jac.shape"
   ]
  },
  {
   "cell_type": "markdown",
   "metadata": {},
   "source": [
    "#### Performing GN"
   ]
  },
  {
   "cell_type": "code",
   "execution_count": 30,
   "metadata": {},
   "outputs": [],
   "source": [
    "#proj = deepcopy(P_mat)\n",
    "#proj = proj.reshape((12,1))\n",
    "curr_estimate = np.random.rand(12, 1)"
   ]
  },
  {
   "cell_type": "code",
   "execution_count": 31,
   "metadata": {},
   "outputs": [
    {
     "data": {
      "text/plain": [
       "array([[0.5468849 ],\n",
       "       [0.27482357],\n",
       "       [0.59223042],\n",
       "       [0.89676116],\n",
       "       [0.40673335],\n",
       "       [0.55207828],\n",
       "       [0.27165277],\n",
       "       [0.45544415],\n",
       "       [0.40171354],\n",
       "       [0.24841347],\n",
       "       [0.50586638],\n",
       "       [0.31038083]])"
      ]
     },
     "execution_count": 31,
     "metadata": {},
     "output_type": "execute_result"
    }
   ],
   "source": [
    "curr_estimate"
   ]
  },
  {
   "cell_type": "code",
   "execution_count": 32,
   "metadata": {
    "scrolled": true
   },
   "outputs": [
    {
     "name": "stdout",
     "output_type": "stream",
     "text": [
      "change is  [ 0.31083334  0.1793069  -0.35122225 -0.45917395 -0.21216875 -1.27271228\n",
      "  0.3938029   0.43632885  0.07416884 -0.77229528 -1.21232503  0.65328193]\n",
      "\n",
      " Converged in 1 iterations\n"
     ]
    }
   ],
   "source": [
    "iterations = 0\n",
    "initial_err = get_error(normalized_X_img, X_world, curr_estimate)\n",
    "err = [initial_err]\n",
    "\n",
    "while True:\n",
    "    iterations += 1\n",
    "    \n",
    "    # 360 * 12\n",
    "    J = jacobian(normalized_X_img, X_world, curr_estimate)\n",
    "    \n",
    "    # 360 * 1\n",
    "    e = residual(normalized_X_img, X_world, curr_estimate)\n",
    "\n",
    "   \n",
    "    # (12 x 12)  * (12 x 360) * (360 * 1)\n",
    "    del_est = - np.linalg.pinv(J.T @ J) @ J.T @ e   \n",
    "    \n",
    "    with np.printoptions(suppress=True):\n",
    "        print(\"change is \", del_est)\n",
    "        \n",
    "        \n",
    "    curr_estimate += del_est.reshape((12,1))\n",
    "\n",
    "    err_val =  get_error(normalized_X_img, X_world, curr_estimate)\n",
    "    err.append(err_val)\n",
    "\n",
    "    if err_val < 1e-3:\n",
    "        print('\\n',f\"Converged in {iterations} iterations\",)\n",
    "        break\n",
    "\n"
   ]
  },
  {
   "cell_type": "code",
   "execution_count": 33,
   "metadata": {},
   "outputs": [
    {
     "name": "stdout",
     "output_type": "stream",
     "text": [
      "[[ 0.85771824  0.45413047  0.24100817  0.43758721]\n",
      " [ 0.1945646  -0.720634    0.66545567  0.891773  ]\n",
      " [ 0.47588238 -0.52388181 -0.70645864  0.96366276]\n",
      " [ 0.          0.          0.          1.        ]]\n"
     ]
    }
   ],
   "source": [
    "with np.printoptions(suppress=True):\n",
    "    print(M_ext)"
   ]
  },
  {
   "cell_type": "code",
   "execution_count": 34,
   "metadata": {
    "scrolled": true
   },
   "outputs": [
    {
     "name": "stdout",
     "output_type": "stream",
     "text": [
      "[[ 0.85771824  0.45413047  0.24100817  0.43758721]\n",
      " [ 0.1945646  -0.720634    0.66545567  0.891773  ]\n",
      " [ 0.47588238 -0.52388181 -0.70645864  0.96366276]]\n"
     ]
    }
   ],
   "source": [
    "with np.printoptions(suppress=True):\n",
    "    print(curr_estimate.reshape(3, 4))"
   ]
  },
  {
   "cell_type": "code",
   "execution_count": null,
   "metadata": {},
   "outputs": [],
   "source": []
  },
  {
   "cell_type": "markdown",
   "metadata": {},
   "source": [
    "### Decomposing the intrinsic matrix into R and C"
   ]
  },
  {
   "cell_type": "code",
   "execution_count": 35,
   "metadata": {},
   "outputs": [],
   "source": [
    "import scipy"
   ]
  },
  {
   "cell_type": "code",
   "execution_count": 36,
   "metadata": {},
   "outputs": [],
   "source": [
    "curr_estimate = curr_estimate.reshape(3, 4)"
   ]
  },
  {
   "cell_type": "code",
   "execution_count": 37,
   "metadata": {},
   "outputs": [],
   "source": [
    "R_mat = curr_estimate[:3, :3]"
   ]
  },
  {
   "cell_type": "code",
   "execution_count": 38,
   "metadata": {
    "scrolled": true
   },
   "outputs": [
    {
     "name": "stdout",
     "output_type": "stream",
     "text": [
      "Estimate for R is \n",
      " [[ 0.85771824  0.45413047  0.24100817]\n",
      " [ 0.1945646  -0.720634    0.66545567]\n",
      " [ 0.47588238 -0.52388181 -0.70645864]]\n"
     ]
    }
   ],
   "source": [
    "with np.printoptions(suppress=True):\n",
    "    print(\"Estimate for R is \\n\", R_mat)"
   ]
  },
  {
   "cell_type": "code",
   "execution_count": 39,
   "metadata": {},
   "outputs": [
    {
     "name": "stdout",
     "output_type": "stream",
     "text": [
      "R @ R.T \n",
      " [[ 1. -0. -0.]\n",
      " [-0.  1.  0.]\n",
      " [-0.  0.  1.]]\n"
     ]
    }
   ],
   "source": [
    "with np.printoptions(suppress=True):\n",
    "    print(\"R @ R.T \\n\", R_mat@R_mat.T)"
   ]
  },
  {
   "cell_type": "markdown",
   "metadata": {},
   "source": [
    "#### Correcting R\n",
    "Since the linear least square solve is NOT sure to enforce orthogonality of the rotation matrix,\n",
    "R ∈ SO(3),the rotation matrix must be corrected (if needed)."
   ]
  },
  {
   "cell_type": "code",
   "execution_count": 40,
   "metadata": {},
   "outputs": [],
   "source": [
    "U, S, Vh = np.linalg.svd(R_mat, full_matrices=False)"
   ]
  },
  {
   "cell_type": "code",
   "execution_count": 41,
   "metadata": {},
   "outputs": [],
   "source": [
    "R_corrected = U@Vh"
   ]
  },
  {
   "cell_type": "code",
   "execution_count": 42,
   "metadata": {
    "scrolled": true
   },
   "outputs": [
    {
     "name": "stdout",
     "output_type": "stream",
     "text": [
      "Corrected R is \n",
      " [[ 0.85771824  0.45413047  0.24100817]\n",
      " [ 0.1945646  -0.720634    0.66545567]\n",
      " [ 0.47588238 -0.52388181 -0.70645864]]\n"
     ]
    }
   ],
   "source": [
    "with np.printoptions(suppress=True):\n",
    "    print(\"Corrected R is \\n\", R_corrected)"
   ]
  },
  {
   "cell_type": "markdown",
   "metadata": {},
   "source": [
    "#### Recovering C\n",
    "$$t = −R^T \\times C$$"
   ]
  },
  {
   "cell_type": "code",
   "execution_count": 43,
   "metadata": {},
   "outputs": [
    {
     "name": "stdout",
     "output_type": "stream",
     "text": [
      "Estimate for C is  [-1.01255842 -0.08377188  0.9397315 ]\n"
     ]
    }
   ],
   "source": [
    "t = curr_estimate[:, -1]\n",
    "C_vec = - R_mat@t\n",
    "with np.printoptions(suppress=True):\n",
    "    print(\"Estimate for C is \", C_vec)"
   ]
  },
  {
   "cell_type": "markdown",
   "metadata": {},
   "source": [
    "#### Coincidentally, in this case, the \"R\" originally obtained WITHOUT correction was same as well. However, this may NOT always be the case."
   ]
  },
  {
   "cell_type": "markdown",
   "metadata": {},
   "source": [
    "####  Atleast 6 correspondences needed as each point contributes to only 2 equations and we have a total of 12 variables, even though the number of degrees of freedom is 6."
   ]
  },
  {
   "cell_type": "markdown",
   "metadata": {},
   "source": [
    "### -----------------------------------------------"
   ]
  },
  {
   "cell_type": "markdown",
   "metadata": {},
   "source": [
    "### TODO 2:"
   ]
  },
  {
   "cell_type": "markdown",
   "metadata": {},
   "source": [
    "\n",
    "2. Given 2D-3D correspondences, X ↔ x, and the intrinsic parameter, K, estimate a camera pose using linear least squares: `[C R] = PnP(X, x, K)` \n",
    "\n",
    "* (INPUT) X and x: N × 3 and N × 2 matrices whose row represents correspondences between 3D and 2D points, respectively. \n",
    "\n",
    "\n",
    "* (INPUT) K: intrinsic parameter. \n",
    "\n",
    "* (OUTPUT) C and R: camera pose (C, R).\n",
    "\n",
    "\n",
    "    \n",
    "- Basically, you have to solve for the pose $T_{k}$ that minimizes this non-linear reprojection error using a Gauss-Newton (GN)scheme.  Recall that in GN we start with some initial estimated value $x_{o}$ and iteratively refine the estimate using $x_{1}$= $∆x+x_0$, where $∆x$ is obtained by solving the normal equations $J^{T}J∆x$= -$J^{T}e$, until convergence.The main steps in this scheme are computing the corresponding Jacobians and updating the estimates correctly.  For our problem,  use a 12×1 vector parameterization for $T_{k}$(the top 3×4submatrix).  **Run the optimization for different choices of initialization and report your observations**.\n",
    "\n",
    "- For this set of correspondences report the final reprojection error c= $\\sum_{i} ‖x_i−P_{k}X_i‖^2 $    where $P_{k}= K[R_{k}|t_{k}]$, $X_{i}$ is the 3D point in the world frame, $x_{i}$ is its corresponding projection. Also, report your ground truth, initialised and final estimated transformation matrix. Also, use `np.isclose()` to analyse these 3 matrices closeness.\n",
    "\n",
    "- Make sure that you write about how you calculate the residual and jacobians. Do not just include the code. "
   ]
  },
  {
   "cell_type": "markdown",
   "metadata": {},
   "source": [
    "## Observations:\n",
    "* Irrespective of the initialization type, the error always converged in the first iteration itself. This is because the residual is linear in the variable to be estimated and hence, it converges in a standard linear least squares style."
   ]
  },
  {
   "cell_type": "code",
   "execution_count": null,
   "metadata": {},
   "outputs": [],
   "source": []
  },
  {
   "cell_type": "markdown",
   "metadata": {},
   "source": [
    "### -----------------------------------------------"
   ]
  },
  {
   "cell_type": "markdown",
   "metadata": {},
   "source": [
    "### TODO 3:"
   ]
  },
  {
   "cell_type": "markdown",
   "metadata": {},
   "source": [
    "3. The above two sub-task seem to be direct as you were directly taking the image of 3D points but it's not realistically possible. Lets say instead of synthesizing a new image of obtained 3D points in first part, you have been given a new image like below. How would you approach it's camera pose estimation. Briefly explain in 3-4 lines. Note: You already have information available from the previous part(Two view geometry part) of the assignment.\n",
    "\n",
    "    <img src=\"./data/3/rgb002615.jpg\" alt=\"image 1\" width=\"400\"/> <br>"
   ]
  },
  {
   "cell_type": "markdown",
   "metadata": {},
   "source": [
    "### Ans:\n",
    "Assuming that I already have the previous image and the given image is the new image, we can follow the following steps:\n",
    "* FInd matching features in the 2 images using SIFT\n",
    "* Estimate the fundamental and essential matrix.\n",
    "* The essential matrix can be processed to give us 4 candidates for relative pose of camera 1 and 2.\n",
    "* Since we know the intrinsic parameters, we can triangulate the pixels in the 2 images for each of the candidates.\n",
    "* We finally choose that candidate (and triangulated points) who satisy the cheirality condition to the maximum extent."
   ]
  },
  {
   "cell_type": "markdown",
   "metadata": {},
   "source": []
  }
 ],
 "metadata": {
  "kernelspec": {
   "display_name": "Python 3 (ipykernel)",
   "language": "python",
   "name": "python3"
  },
  "language_info": {
   "codemirror_mode": {
    "name": "ipython",
    "version": 3
   },
   "file_extension": ".py",
   "mimetype": "text/x-python",
   "name": "python",
   "nbconvert_exporter": "python",
   "pygments_lexer": "ipython3",
   "version": "3.7.13"
  },
  "vscode": {
   "interpreter": {
    "hash": "916dbcbb3f70747c44a77c7bcd40155683ae19c65e1c03b4aa3499c5328201f1"
   }
  }
 },
 "nbformat": 4,
 "nbformat_minor": 2
}
