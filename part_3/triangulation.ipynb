{
 "cells": [
  {
   "cell_type": "code",
   "execution_count": 1,
   "metadata": {},
   "outputs": [],
   "source": [
    "#%matplotlib tk\n",
    "import matplotlib.pyplot as plt\n",
    "import matplotlib.image as mpimg\n",
    "import matplotlib.cm as cm\n",
    "import numpy as np\n",
    "import math\n",
    "import importlib\n",
    "np.random.seed(0)"
   ]
  },
  {
   "cell_type": "code",
   "execution_count": 2,
   "metadata": {},
   "outputs": [],
   "source": [
    "from collections import Counter"
   ]
  },
  {
   "cell_type": "code",
   "execution_count": 3,
   "metadata": {
    "scrolled": false
   },
   "outputs": [
    {
     "data": {
      "text/plain": [
       "<module 'helper_utils.estimation_related' from '/home/anmolagarwal/Desktop/mr_assignment_3/helper_utils/estimation_related.py'>"
      ]
     },
     "execution_count": 3,
     "metadata": {},
     "output_type": "execute_result"
    }
   ],
   "source": [
    "import helper_utils.dlt_related as dlt_related\n",
    "importlib.reload(dlt_related)\n",
    "import helper_utils.annotate_images as img_helper\n",
    "importlib.reload(img_helper)\n",
    "import helper_utils.estimation_related as est_related\n",
    "importlib.reload(est_related)"
   ]
  },
  {
   "cell_type": "markdown",
   "metadata": {},
   "source": [
    "## A lot of helper functions were overlapping across ipynb files and hence, I have implemented them in py files. Please find them in `helper_utils.estimation_related.py`"
   ]
  },
  {
   "cell_type": "markdown",
   "metadata": {},
   "source": [
    "## --------------------------------------------------------"
   ]
  },
  {
   "cell_type": "markdown",
   "metadata": {},
   "source": [
    "\n",
    "5. **Triangulation:** Given four configurations of relative camera pose, you will find the best camera pose by verifying through 3D point triangulation. Follow the below steps for the same:\n"
   ]
  },
  {
   "cell_type": "markdown",
   "metadata": {},
   "source": [
    "### TODO: 5\n",
    "1. Linear triangulation: Write a code that computes the 3D point given the correspondence, u ↔ v, and two camera projection matrices i.e. `[X] = LinearTriangulation(P1,u,P2,v)` Input: `P1, P2 ∈ R3×4` are two camera projection matrices, and `u ↔ v ∈ R2` are their 2D correspondence. Output: `X ∈ R3` is the triangulated 3D point. \n"
   ]
  },
  {
   "cell_type": "markdown",
   "metadata": {},
   "source": [
    "#### My notes:\n",
    "Triangulation allows us to disambiguate four camera pose configuration obtained from the essential matrix.\n",
    "\n",
    "##### Goal:\n",
    "Given two camera poses, (C1, R1) and (C2, R2), and correspondences x1 ↔ x2, triangulate 3D\n",
    "points using linear least squares.\n"
   ]
  },
  {
   "cell_type": "markdown",
   "metadata": {},
   "source": [
    "### Design a custom experiment and dataset to check correctness\n",
    "* I first generate world points ($X\\_world$) at random,\n",
    "* THen, I generate two valid extrinsic matrices for the 2 cameras.\n",
    "* We already know the K matrix.\n",
    "* Using K and the extrinsic matrices, I am able to find the $P$ matrix ie camera matrix for both the cameras ie $P\\_mat\\_1$ and $P\\_mat\\_1$\n",
    "* Using the camera matrices, I am able to find the corresponding images for both the cameras ie $X_img_1$ and $X_img_2$\n",
    "* Now, I use only $X\\_img\\_1$, $X\\_img\\_2$, $P\\_mat\\_1$ and $P\\_mat\\_2$ for triangulation and to get $X\\_world\\_predicted$.\n",
    "* I show that my code is correct by verifying that $X\\_world$ is almost same as $X\\_world\\_predicted$"
   ]
  },
  {
   "cell_type": "markdown",
   "metadata": {},
   "source": [
    "<img src=\"https://wikimedia.org/api/rest_v1/media/math/render/svg/8debf2c38beb4c25685cd503a90d1a4edfb10a14\" alt=\"image 1\" width=\"400\"/>"
   ]
  },
  {
   "cell_type": "markdown",
   "metadata": {},
   "source": [
    "#### Let K matrix of both cameras be the same"
   ]
  },
  {
   "cell_type": "code",
   "execution_count": 4,
   "metadata": {},
   "outputs": [],
   "source": [
    "f_x = 382.1996765136719\n",
    "f_y = 381.83956909\n",
    "c_x = 312.7102355957031\n",
    "c_y = 247.72047424316406\n",
    "scaling_fac = 1000.0"
   ]
  },
  {
   "cell_type": "code",
   "execution_count": 5,
   "metadata": {},
   "outputs": [],
   "source": [
    "K_mat = np.array([\n",
    "    [f_x, scaling_fac, c_x,0],\n",
    "    [0, f_y, c_y,0],\n",
    "    [0, 0, 1,0]\n",
    "    \n",
    "])"
   ]
  },
  {
   "cell_type": "markdown",
   "metadata": {},
   "source": [
    "#### Generate 3d coordinates"
   ]
  },
  {
   "cell_type": "code",
   "execution_count": 6,
   "metadata": {},
   "outputs": [],
   "source": [
    "from scipy.stats import ortho_group"
   ]
  },
  {
   "cell_type": "markdown",
   "metadata": {},
   "source": [
    "#### For cameras 1 and 2, initialize their respective projection matrices"
   ]
  },
  {
   "cell_type": "code",
   "execution_count": 7,
   "metadata": {},
   "outputs": [],
   "source": [
    "def fetch_random_projection_matrix(intrinsic_mat):\n",
    "    R_cam =  np.array(ortho_group.rvs(dim=3))\n",
    "    P_cam=np.zeros((4,4))\n",
    "    P_cam[0:3, 3]=np.random.rand(3)\n",
    "    P_cam[0:3, 0:3]= R_cam\n",
    "    P_cam[-1, -1] = 1\n",
    "    P_mat = intrinsic_mat@P_cam\n",
    "    return R_cam, P_mat"
   ]
  },
  {
   "cell_type": "code",
   "execution_count": 8,
   "metadata": {},
   "outputs": [],
   "source": [
    "R_cam_1, P_mat_1 = fetch_random_projection_matrix(K_mat)\n",
    "R_cam_2, P_mat_2 = fetch_random_projection_matrix(K_mat)"
   ]
  },
  {
   "cell_type": "code",
   "execution_count": 9,
   "metadata": {},
   "outputs": [
    {
     "name": "stdout",
     "output_type": "stream",
     "text": [
      "[[ 671.19752298 -710.88868964  536.65206629 1360.36590024]\n",
      " [ 192.17827046 -404.94282779   79.09303679  579.23321439]\n",
      " [   0.47588238   -0.52388181   -0.70645864    0.96366276]]\n"
     ]
    }
   ],
   "source": [
    "with np.printoptions(suppress=True):\n",
    "    print(P_mat_1)"
   ]
  },
  {
   "cell_type": "code",
   "execution_count": 10,
   "metadata": {},
   "outputs": [
    {
     "name": "stdout",
     "output_type": "stream",
     "text": [
      "[[ 268.04283581 -949.77707154 -519.55830926 1561.04176675]\n",
      " [ 151.46372412 -428.63419206  -22.32396809  571.64314462]\n",
      " [   0.88148876   -0.28601249    0.37573186    0.79915856]]\n"
     ]
    }
   ],
   "source": [
    "with np.printoptions(suppress=True):\n",
    "    print(P_mat_2)"
   ]
  },
  {
   "cell_type": "markdown",
   "metadata": {},
   "source": [
    "#### Generate random points in 3D world and project them in the images of the 2 cameras"
   ]
  },
  {
   "cell_type": "code",
   "execution_count": 11,
   "metadata": {},
   "outputs": [],
   "source": [
    "NUM_POINTS = 120\n",
    "X_world = []\n",
    "X_img_1  = []\n",
    "X_img_2  = []\n",
    "for i in range(NUM_POINTS):\n",
    "    \n",
    "    # random point in the world\n",
    "    sample_world_point=np.random.rand(4)\n",
    "    sample_world_point/=sample_world_point[-1]\n",
    "    \n",
    "    # image for camera 1\n",
    "    image_point_1=P_mat_1 @ sample_world_point\n",
    "    \n",
    "    # image for camera 2\n",
    "    image_point_2=P_mat_2 @ sample_world_point\n",
    "    \n",
    "    \n",
    "    X_world.append(sample_world_point)\n",
    "    X_img_1.append(image_point_1)\n",
    "    X_img_2.append(image_point_2)\n",
    "    \n",
    "    \n",
    "X_world = np.array(X_world)\n",
    "X_img_1 = np.array(X_img_1)\n",
    "X_img_2 = np.array(X_img_2)"
   ]
  },
  {
   "cell_type": "code",
   "execution_count": 12,
   "metadata": {},
   "outputs": [],
   "source": [
    "for a in X_img_1:\n",
    "    a/=a[-1]\n",
    "for a in X_img_2:\n",
    "    a/=a[-1]"
   ]
  },
  {
   "cell_type": "code",
   "execution_count": 13,
   "metadata": {
    "scrolled": true
   },
   "outputs": [
    {
     "name": "stdout",
     "output_type": "stream",
     "text": [
      "Shapes X_world are:  (120, 4)\n",
      "Shapes X_img_1 are:  (120, 3)\n",
      "Shapes X_img_2 are:  (120, 3)\n"
     ]
    }
   ],
   "source": [
    "print(\"Shapes X_world are: \", X_world.shape)\n",
    "print(\"Shapes X_img_1 are: \", X_img_1.shape)\n",
    "print(\"Shapes X_img_2 are: \", X_img_2.shape)"
   ]
  },
  {
   "cell_type": "markdown",
   "metadata": {},
   "source": [
    "#### Fetch world point"
   ]
  },
  {
   "cell_type": "code",
   "execution_count": 14,
   "metadata": {},
   "outputs": [],
   "source": [
    "idx_test = 0"
   ]
  },
  {
   "cell_type": "code",
   "execution_count": 15,
   "metadata": {},
   "outputs": [
    {
     "data": {
      "text/plain": [
       "array([0.7211505 , 1.21972736, 0.1848266 , 1.        ])"
      ]
     },
     "execution_count": 15,
     "metadata": {},
     "output_type": "execute_result"
    }
   ],
   "source": [
    "X_world[idx_test]"
   ]
  },
  {
   "cell_type": "code",
   "execution_count": 16,
   "metadata": {},
   "outputs": [],
   "source": [
    "px1 = X_img_1[idx_test]"
   ]
  },
  {
   "cell_type": "code",
   "execution_count": 17,
   "metadata": {
    "scrolled": true
   },
   "outputs": [],
   "source": [
    "px2 = X_img_2[idx_test]"
   ]
  },
  {
   "cell_type": "code",
   "execution_count": 18,
   "metadata": {},
   "outputs": [],
   "source": [
    "best_ptx  = est_related.fetch_triangulate_point(px1, px2, P_mat_1, P_mat_2)"
   ]
  },
  {
   "cell_type": "code",
   "execution_count": 19,
   "metadata": {},
   "outputs": [
    {
     "data": {
      "text/plain": [
       "array([0.41347533, 0.69933693, 0.10597128, 0.57335512])"
      ]
     },
     "execution_count": 19,
     "metadata": {},
     "output_type": "execute_result"
    }
   ],
   "source": [
    "best_ptx"
   ]
  },
  {
   "cell_type": "code",
   "execution_count": 20,
   "metadata": {},
   "outputs": [
    {
     "data": {
      "text/plain": [
       "array([1.74411976, 1.74411976, 1.74411976, 1.74411976])"
      ]
     },
     "execution_count": 20,
     "metadata": {},
     "output_type": "execute_result"
    }
   ],
   "source": [
    "X_world[idx_test]/best_ptx"
   ]
  },
  {
   "cell_type": "markdown",
   "metadata": {},
   "source": [
    "#### Implement LinearTriangulation and check it's result\n",
    "Solved using least squares to recovery the triangulated world points.\n",
    "Some of the helper functions I have used are in: `helper_utils/estimated_related.py`"
   ]
  },
  {
   "cell_type": "code",
   "execution_count": 21,
   "metadata": {},
   "outputs": [],
   "source": [
    "def LinearTriangulation(P_mat_1,x_img_1,P_mat_2,x_img_2):\n",
    "    assert(P_mat_1.shape==(3,4))\n",
    "    assert(P_mat_2.shape==(3,4))\n",
    "    assert(x_img_1.shape == x_img_2.shape)\n",
    "    \n",
    "    num_points = x_img_1.shape[0]\n",
    "    \n",
    "    X_world_predicted = []\n",
    "    \n",
    "    for px1, px2 in zip(x_img_1, x_img_2):\n",
    "        best_world_ptx = est_related.fetch_triangulate_point(px1, px2, P_mat_1, P_mat_2)\n",
    "        best_world_ptx/=best_world_ptx[-1]\n",
    "        X_world_predicted.append(best_world_ptx)\n",
    "    return np.array(X_world_predicted)"
   ]
  },
  {
   "cell_type": "code",
   "execution_count": 22,
   "metadata": {},
   "outputs": [
    {
     "data": {
      "text/plain": [
       "(120, 3)"
      ]
     },
     "execution_count": 22,
     "metadata": {},
     "output_type": "execute_result"
    }
   ],
   "source": [
    "X_img_1.shape"
   ]
  },
  {
   "cell_type": "code",
   "execution_count": 23,
   "metadata": {},
   "outputs": [],
   "source": [
    "X_world_predicted = LinearTriangulation(P_mat_1,X_img_1,P_mat_2,X_img_2)"
   ]
  },
  {
   "cell_type": "code",
   "execution_count": 24,
   "metadata": {},
   "outputs": [
    {
     "data": {
      "text/plain": [
       "(120, 4)"
      ]
     },
     "execution_count": 24,
     "metadata": {},
     "output_type": "execute_result"
    }
   ],
   "source": [
    "X_world_predicted.shape"
   ]
  },
  {
   "cell_type": "code",
   "execution_count": 25,
   "metadata": {},
   "outputs": [
    {
     "name": "stdout",
     "output_type": "stream",
     "text": [
      "[[ 0.7211505   1.21972736  0.1848266   1.        ]\n",
      " [ 0.34571123  2.27816644  1.25849101  1.        ]\n",
      " [ 0.46541135  1.36204689  0.80246849  1.        ]\n",
      " [ 0.03045674  1.00113707  0.99215755  1.        ]\n",
      " [ 2.15944869  1.56011544  0.82261239  1.        ]\n",
      " [ 1.04025023  0.08980327  0.99422765  1.        ]\n",
      " [ 0.57843368  0.35447479  0.86725051  1.        ]\n",
      " [ 5.58770962  4.29812658  9.68568446  1.        ]\n",
      " [ 0.82464935  0.636853    2.57848392  1.        ]\n",
      " [ 4.22478076  2.21449857  1.44026619  1.        ]\n",
      " [ 1.77999671  0.37475866  0.53314061  1.        ]\n",
      " [ 8.54325527  1.01043584  8.71965442  1.        ]\n",
      " [ 1.61439481  0.77482793  1.61489348  1.        ]\n",
      " [ 6.15045532  0.32603089  2.35287066  1.        ]\n",
      " [ 0.71486037  0.28659987  0.7675877   1.        ]\n",
      " [ 0.24171076  2.6092673   2.13498075  1.        ]\n",
      " [ 0.56305843  0.1010878   0.61976633  1.        ]\n",
      " [ 0.44472547  0.93171162  0.18399114  1.        ]\n",
      " [14.39290952  9.11057771 29.16879709  1.        ]\n",
      " [ 3.0700576   0.01739014  2.51035749  1.        ]\n",
      " [ 1.27602996  1.67001006  0.43174517  1.        ]\n",
      " [ 0.62140388  0.60063238  0.23414523  1.        ]\n",
      " [ 1.50326104  2.84567425  2.35168923  1.        ]\n",
      " [ 1.40002718  0.68213357  1.51581682  1.        ]\n",
      " [ 1.75881205  1.38140417  1.44667665  1.        ]\n",
      " [ 1.57667271  1.062001    0.69897723  1.        ]\n",
      " [ 0.06616574  1.03963494  2.27585143  1.        ]\n",
      " [ 2.07191434  1.43745929  0.45418066  1.        ]\n",
      " [ 0.87257225  0.90458056  0.87924759  1.        ]\n",
      " [ 1.77413198  1.17373011  2.43917193  1.        ]\n",
      " [ 0.61922431  1.26713712  1.14534318  1.        ]\n",
      " [ 0.10034258  0.92054399  0.71506577  1.        ]\n",
      " [ 0.24278447  1.41030391  0.26397597  1.        ]\n",
      " [ 0.21757129  1.49008457  1.41858709  1.        ]\n",
      " [ 0.89778385  0.15250383  1.5377357   1.        ]\n",
      " [ 0.84371673  1.01236147  1.1398898   1.        ]\n",
      " [ 0.06825209  2.09741153  4.25328867  1.        ]\n",
      " [28.13100034  2.93373239 10.79790219  1.        ]\n",
      " [ 0.85520278  0.24127702  0.37211361  1.        ]\n",
      " [ 1.13344953  0.05123095  0.26500383  1.        ]\n",
      " [ 0.94016384  0.38746908  1.52160554  1.        ]\n",
      " [ 1.71707452  1.89107049  2.34054734  1.        ]\n",
      " [ 0.421678    0.22220445  0.19716058  1.        ]\n",
      " [ 2.90753666  1.92823397  0.89407837  1.        ]\n",
      " [ 0.0833341   0.62385393  0.44776161  1.        ]\n",
      " [ 5.6171585   2.67070129  0.36697195  1.        ]\n",
      " [ 0.7576832   0.505979    0.59841239  1.        ]\n",
      " [ 3.7609373   0.82369371  2.51812327  1.        ]\n",
      " [ 0.05385383  1.9777055   0.83454311  1.        ]\n",
      " [ 0.67417255  0.95232663  0.72077164  1.        ]\n",
      " [ 0.28709533  0.83758797  0.19483372  1.        ]\n",
      " [ 0.94066199  0.29487031  1.29624829  1.        ]\n",
      " [ 9.89535255  8.31213502 20.1927447   1.        ]\n",
      " [ 0.4475433   0.91610868  0.80713938  1.        ]\n",
      " [ 2.36215709  4.99255578  7.34996992  1.        ]\n",
      " [ 1.30631595  0.33345505  1.80997884  1.        ]\n",
      " [ 1.15851662  0.37553013  0.29678495  1.        ]\n",
      " [ 0.47499669  1.25614751  1.02225517  1.        ]\n",
      " [ 1.54620486  0.14273028  0.94476489  1.        ]\n",
      " [ 9.59117128  2.91291299  2.40122957  1.        ]\n",
      " [ 0.02092539  1.18388317  0.85323067  1.        ]\n",
      " [ 0.58013611  1.20753057  0.13169611  1.        ]\n",
      " [ 1.01656144  0.91153541  0.35167372  1.        ]\n",
      " [ 0.28991601  1.18783252  1.17789622  1.        ]\n",
      " [ 0.74262645  1.02985406  0.34515874  1.        ]\n",
      " [ 4.17087283  0.08935319  2.34394154  1.        ]\n",
      " [ 1.53537387  0.74807016  0.77781508  1.        ]\n",
      " [ 1.94147306  0.72110496  4.33040177  1.        ]\n",
      " [ 0.59304571  0.26017077  0.11348347  1.        ]\n",
      " [ 1.25692506  1.24131254  1.17118871  1.        ]\n",
      " [ 1.43452271  0.34922251  1.75358011  1.        ]\n",
      " [11.59379693  4.67533365 63.49568946  1.        ]\n",
      " [ 8.59994034  1.63997399  0.88749319  1.        ]\n",
      " [ 1.20575069  0.44022416  0.75450846  1.        ]\n",
      " [ 6.5449715   5.529577    2.05599445  1.        ]\n",
      " [ 0.12139749  0.66119669  0.57464336  1.        ]\n",
      " [ 1.79845448  1.83094522  0.74624567  1.        ]\n",
      " [ 0.25990198  1.13134668  0.08156141  1.        ]\n",
      " [ 2.08311404  2.07966891  0.69398996  1.        ]\n",
      " [ 2.98191765  1.38450128  1.88198297  1.        ]\n",
      " [ 5.97553424  0.57970843 10.39283797  1.        ]\n",
      " [ 0.54077248  0.31978261  0.60196256  1.        ]\n",
      " [ 1.26578218  0.06933582  0.84389847  1.        ]\n",
      " [ 4.16091217  5.28782803  2.15423622  1.        ]\n",
      " [ 0.43438346  1.05798971  0.20700687  1.        ]\n",
      " [ 1.18578555  0.99630936  1.92331834  1.        ]\n",
      " [ 1.04948026  0.5782766   1.31016176  1.        ]\n",
      " [ 1.09992908  0.51523419  1.18978931  1.        ]\n",
      " [ 0.25023836  0.16737324  0.83029525  1.        ]\n",
      " [ 1.00200203  1.29254998  1.87593755  1.        ]\n",
      " [ 1.04734671  0.63349853  0.90308939  1.        ]\n",
      " [ 2.04682153  0.4001023   1.57842461  1.        ]\n",
      " [ 0.07386351  0.49942652  0.30467891  1.        ]\n",
      " [ 0.09336693  2.68843341  0.9962489   1.        ]\n",
      " [ 0.01757092  0.19932641  0.43179082  1.        ]\n",
      " [ 0.21933769  2.08141744  1.91448816  1.        ]\n",
      " [ 9.87769968  7.03694646 18.57814954  1.        ]\n",
      " [ 0.06194333  1.70196888  0.27019849  1.        ]\n",
      " [18.37461114 21.0357681  10.88840181  1.        ]\n",
      " [ 0.11661017  0.6245099   0.98375436  1.        ]\n",
      " [ 0.83428439  0.33235295  1.30278359  1.        ]\n",
      " [ 3.43070365  0.2264374   2.71580624  1.        ]\n",
      " [ 0.36256712  0.99496208  0.36954241  1.        ]\n",
      " [ 1.80214519  1.47739677  1.93236325  1.        ]\n",
      " [ 0.8526746   0.50063767  0.4350963   1.        ]\n",
      " [ 2.65398997  0.1320079   0.66747221  1.        ]\n",
      " [ 0.90056685  1.08900296  1.07074808  1.        ]\n",
      " [ 2.8001797   9.36688944  2.3551043   1.        ]\n",
      " [16.29561247  3.99991123 11.8199332   1.        ]\n",
      " [ 1.92770296  2.32608936  0.71872296  1.        ]\n",
      " [ 2.17800078  4.35714143  1.3837821   1.        ]\n",
      " [ 1.88983006  1.28066825  3.52983375  1.        ]\n",
      " [ 0.57926392  1.08681554  0.73101054  1.        ]\n",
      " [ 0.97132555  0.77561112  0.72272722  1.        ]\n",
      " [ 3.39624679  1.5431383   0.24204653  1.        ]\n",
      " [ 0.2521937   0.69106782  0.21732405  1.        ]\n",
      " [ 0.69997921  1.6372474   1.76964964  1.        ]\n",
      " [ 0.67568487  1.45606556  2.20478888  1.        ]\n",
      " [ 1.37430838  0.67623504  1.13375356  1.        ]\n",
      " [ 0.6659256   1.35608339  0.83204241  1.        ]]\n"
     ]
    }
   ],
   "source": [
    "with np.printoptions(suppress=True):\n",
    "    print(X_world)"
   ]
  },
  {
   "cell_type": "markdown",
   "metadata": {},
   "source": [
    "#### Are the projected triangulated points close to the ground truth ?"
   ]
  },
  {
   "cell_type": "code",
   "execution_count": 26,
   "metadata": {
    "scrolled": true
   },
   "outputs": [
    {
     "data": {
      "text/plain": [
       "array([[ True,  True,  True,  True],\n",
       "       [ True,  True,  True,  True],\n",
       "       [ True,  True,  True,  True],\n",
       "       [ True,  True,  True,  True],\n",
       "       [ True,  True,  True,  True],\n",
       "       [ True,  True,  True,  True],\n",
       "       [ True,  True,  True,  True],\n",
       "       [ True,  True,  True,  True],\n",
       "       [ True,  True,  True,  True],\n",
       "       [ True,  True,  True,  True],\n",
       "       [ True,  True,  True,  True],\n",
       "       [ True,  True,  True,  True],\n",
       "       [ True,  True,  True,  True],\n",
       "       [ True,  True,  True,  True],\n",
       "       [ True,  True,  True,  True],\n",
       "       [ True,  True,  True,  True],\n",
       "       [ True,  True,  True,  True],\n",
       "       [ True,  True,  True,  True],\n",
       "       [ True,  True,  True,  True],\n",
       "       [ True,  True,  True,  True],\n",
       "       [ True,  True,  True,  True],\n",
       "       [ True,  True,  True,  True],\n",
       "       [ True,  True,  True,  True],\n",
       "       [ True,  True,  True,  True],\n",
       "       [ True,  True,  True,  True],\n",
       "       [ True,  True,  True,  True],\n",
       "       [ True,  True,  True,  True],\n",
       "       [ True,  True,  True,  True],\n",
       "       [ True,  True,  True,  True],\n",
       "       [ True,  True,  True,  True],\n",
       "       [ True,  True,  True,  True],\n",
       "       [ True,  True,  True,  True],\n",
       "       [ True,  True,  True,  True],\n",
       "       [ True,  True,  True,  True],\n",
       "       [ True,  True,  True,  True],\n",
       "       [ True,  True,  True,  True],\n",
       "       [ True,  True,  True,  True],\n",
       "       [ True,  True,  True,  True],\n",
       "       [ True,  True,  True,  True],\n",
       "       [ True,  True,  True,  True],\n",
       "       [ True,  True,  True,  True],\n",
       "       [ True,  True,  True,  True],\n",
       "       [ True,  True,  True,  True],\n",
       "       [ True,  True,  True,  True],\n",
       "       [ True,  True,  True,  True],\n",
       "       [ True,  True,  True,  True],\n",
       "       [ True,  True,  True,  True],\n",
       "       [ True,  True,  True,  True],\n",
       "       [ True,  True,  True,  True],\n",
       "       [ True,  True,  True,  True],\n",
       "       [ True,  True,  True,  True],\n",
       "       [ True,  True,  True,  True],\n",
       "       [ True,  True,  True,  True],\n",
       "       [ True,  True,  True,  True],\n",
       "       [ True,  True,  True,  True],\n",
       "       [ True,  True,  True,  True],\n",
       "       [ True,  True,  True,  True],\n",
       "       [ True,  True,  True,  True],\n",
       "       [ True,  True,  True,  True],\n",
       "       [ True,  True,  True,  True],\n",
       "       [ True,  True,  True,  True],\n",
       "       [ True,  True,  True,  True],\n",
       "       [ True,  True,  True,  True],\n",
       "       [ True,  True,  True,  True],\n",
       "       [ True,  True,  True,  True],\n",
       "       [ True,  True,  True,  True],\n",
       "       [ True,  True,  True,  True],\n",
       "       [ True,  True,  True,  True],\n",
       "       [ True,  True,  True,  True],\n",
       "       [ True,  True,  True,  True],\n",
       "       [ True,  True,  True,  True],\n",
       "       [ True,  True,  True,  True],\n",
       "       [ True,  True,  True,  True],\n",
       "       [ True,  True,  True,  True],\n",
       "       [ True,  True,  True,  True],\n",
       "       [ True,  True,  True,  True],\n",
       "       [ True,  True,  True,  True],\n",
       "       [ True,  True,  True,  True],\n",
       "       [ True,  True,  True,  True],\n",
       "       [ True,  True,  True,  True],\n",
       "       [ True,  True,  True,  True],\n",
       "       [ True,  True,  True,  True],\n",
       "       [ True,  True,  True,  True],\n",
       "       [ True,  True,  True,  True],\n",
       "       [ True,  True,  True,  True],\n",
       "       [ True,  True,  True,  True],\n",
       "       [ True,  True,  True,  True],\n",
       "       [ True,  True,  True,  True],\n",
       "       [ True,  True,  True,  True],\n",
       "       [ True,  True,  True,  True],\n",
       "       [ True,  True,  True,  True],\n",
       "       [ True,  True,  True,  True],\n",
       "       [ True,  True,  True,  True],\n",
       "       [ True,  True,  True,  True],\n",
       "       [ True,  True,  True,  True],\n",
       "       [ True,  True,  True,  True],\n",
       "       [ True,  True,  True,  True],\n",
       "       [ True,  True,  True,  True],\n",
       "       [ True,  True,  True,  True],\n",
       "       [ True,  True,  True,  True],\n",
       "       [ True,  True,  True,  True],\n",
       "       [ True,  True,  True,  True],\n",
       "       [ True,  True,  True,  True],\n",
       "       [ True,  True,  True,  True],\n",
       "       [ True,  True,  True,  True],\n",
       "       [ True,  True,  True,  True],\n",
       "       [ True,  True,  True,  True],\n",
       "       [ True,  True,  True,  True],\n",
       "       [ True,  True,  True,  True],\n",
       "       [ True,  True,  True,  True],\n",
       "       [ True,  True,  True,  True],\n",
       "       [ True,  True,  True,  True],\n",
       "       [ True,  True,  True,  True],\n",
       "       [ True,  True,  True,  True],\n",
       "       [ True,  True,  True,  True],\n",
       "       [ True,  True,  True,  True],\n",
       "       [ True,  True,  True,  True],\n",
       "       [ True,  True,  True,  True],\n",
       "       [ True,  True,  True,  True],\n",
       "       [ True,  True,  True,  True]])"
      ]
     },
     "execution_count": 26,
     "metadata": {},
     "output_type": "execute_result"
    }
   ],
   "source": [
    "np.isclose(X_world, X_world_predicted)"
   ]
  },
  {
   "cell_type": "markdown",
   "metadata": {},
   "source": [
    "#### Yes, it is close to the ground truth"
   ]
  },
  {
   "cell_type": "code",
   "execution_count": 27,
   "metadata": {},
   "outputs": [
    {
     "data": {
      "text/plain": [
       "Counter({True: 480})"
      ]
     },
     "execution_count": 27,
     "metadata": {},
     "output_type": "execute_result"
    }
   ],
   "source": [
    "Counter(np.isclose(X_world, X_world_predicted).flatten().tolist())"
   ]
  },
  {
   "cell_type": "code",
   "execution_count": null,
   "metadata": {},
   "outputs": [],
   "source": []
  },
  {
   "cell_type": "code",
   "execution_count": null,
   "metadata": {},
   "outputs": [],
   "source": []
  }
 ],
 "metadata": {
  "kernelspec": {
   "display_name": "Python 3 (ipykernel)",
   "language": "python",
   "name": "python3"
  },
  "language_info": {
   "codemirror_mode": {
    "name": "ipython",
    "version": 3
   },
   "file_extension": ".py",
   "mimetype": "text/x-python",
   "name": "python",
   "nbconvert_exporter": "python",
   "pygments_lexer": "ipython3",
   "version": "3.7.13"
  },
  "vscode": {
   "interpreter": {
    "hash": "916dbcbb3f70747c44a77c7bcd40155683ae19c65e1c03b4aa3499c5328201f1"
   }
  }
 },
 "nbformat": 4,
 "nbformat_minor": 2
}
